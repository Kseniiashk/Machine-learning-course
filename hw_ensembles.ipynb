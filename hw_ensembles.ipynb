{
 "cells": [
  {
   "cell_type": "markdown",
   "metadata": {
    "id": "ChQCezLlL15s"
   },
   "source": [
    "# Домашнее задание. Композиции алгоритмов\n",
    "В этом домашнем задании вам предстоит обучить два вида композиций алгоритмов: бэггинг и бустинг.\n",
    "\n",
    "## Постановка задачи\n",
    "Вам предлагается решить задачу бинарной классификации, а именно построить алгоритм, определяющий превысит ли средний заработок человека порог $50k. Каждый объект выборки — человек, для которого известны следующие признаки:\n",
    " - age\n",
    " - workclass\n",
    " - fnlwgt\n",
    " - education\n",
    " - education-num\n",
    " - marital-status\n",
    " - occupation\n",
    " - relationship\n",
    " - race\n",
    " - sex\n",
    " - capital-gain\n",
    " - capital-loss\n",
    " - hours-per-week\n",
    "\n",
    "## Метрика качества\n",
    "В качестве целевой метрики мы будем использовать ROC-AUC. Об этой метрике мы говорили в модуле о метриках. Как вы помните, для измерения ROC-AUC требуются вероятности принадлежности к классам. Для решающих деревьев вероятность принадлежности к классу вычисляется как доля объектов из обучающей выборки в соответствующем листе. Для алгоритма, который принимает решение взвешенным голосованием, вероятность вычисляется как среднее взвешенное значение вероятностей по всем алгоритмам в композиции.\n",
    "\n",
    "## Ход работы\n",
    "* Первым делом вы произведете загрузку и обработку данных. В частности, вам необходимо будет закодировать категориальные признаки с помощью One-hot encoding.\n",
    "* Сначала мы построим для нашей задачи обычный случайный лес и измерим его качество. Мы подберем оптимальный гиперпараметр \"глубина дерева\" для случайного леса.\n",
    "* Далее мы обучим алгоритм градиентного бустинга с помощью библиотеки Catboost. Catboost --- это библиотека для градиентного бустинга, которая автоматически обрабатывает категориальные признаки. Поэтому для этого пункта вам нужно будет использовать не One-hot признаки, а изначальные категориальные признаки.\n",
    "\n",
    "## Оценивание\n",
    "В этом домашнем задании данные разделены на две части:\n",
    "* [`data_train.csv`](https://drive.google.com/file/d/1qKakViWhNT1yTiM66V9hxADAVCYTL0PO/view?usp=share_link). Для этих данных вам известно значение целевой переменной. Эти данные вы будете использовать для обучения.\n",
    "* [`data_scoring.csv`](https://drive.google.com/file/d/1tguHTZm9-sUwTRzqAEuqLRUzKHqkvVmQ/view?usp=share_link). На этих данных вы должны будете применить готовую модель, а затем сдать результаты в Stepik. Вам необходимо будет сдать результат работы двух моделей: случайного леса и градиентного бустинга.\n",
    "\n"
   ]
  },
  {
   "cell_type": "markdown",
   "metadata": {
    "id": "XFdz-yifdnoA"
   },
   "source": [
    "## Часть 1. Загрузка и обработка данных\n",
    "Загрузка данных будет состоять из следующих шагов:\n",
    "* Загрузка из файла;\n",
    "* Работа с пропущенными значениями;\n",
    "* Выделение целевой переменной;\n",
    "* Разбиение данных на вещественные и категориальные;\n",
    "* One-hot кодирование категориальных данных;\n",
    "* Разбиение данных на train и test.\n",
    "\n",
    "Затем все эти шаги (кроме последнего) необходимо будет применить к `data_scoring`."
   ]
  },
  {
   "cell_type": "code",
   "execution_count": 2,
   "metadata": {
    "id": "Fd1ZpmkBdm4t"
   },
   "outputs": [],
   "source": [
    "import numpy as np\n",
    "import pandas as pd\n",
    "from matplotlib import pyplot as plt\n",
    "%matplotlib inline"
   ]
  },
  {
   "cell_type": "code",
   "execution_count": 3,
   "metadata": {
    "id": "GCBvvmxkezaa"
   },
   "outputs": [
    {
     "name": "stdout",
     "output_type": "stream",
     "text": [
      "zsh:1: command not found: gdown\r\n"
     ]
    }
   ],
   "source": [
    "!gdown 1qKakViWhNT1yTiM66V9hxADAVCYTL0PO #эта команда скачивает файл data_train.csv и помещает его в корневую директорию Colab. Очень удобно!"
   ]
  },
  {
   "cell_type": "code",
   "execution_count": 4,
   "metadata": {
    "id": "7F0Q9Q2v_vKL"
   },
   "outputs": [],
   "source": [
    "data = pd.read_csv('data_train.csv')"
   ]
  },
  {
   "cell_type": "code",
   "execution_count": 5,
   "metadata": {
    "id": "U7z3LvVjemi6"
   },
   "outputs": [
    {
     "data": {
      "text/plain": [
       "(14734, 14)"
      ]
     },
     "execution_count": 5,
     "metadata": {},
     "output_type": "execute_result"
    }
   ],
   "source": [
    "data.shape"
   ]
  },
  {
   "cell_type": "code",
   "execution_count": 6,
   "metadata": {
    "id": "zM8GRr8Eeiaa"
   },
   "outputs": [
    {
     "data": {
      "text/html": [
       "<div>\n",
       "<style scoped>\n",
       "    .dataframe tbody tr th:only-of-type {\n",
       "        vertical-align: middle;\n",
       "    }\n",
       "\n",
       "    .dataframe tbody tr th {\n",
       "        vertical-align: top;\n",
       "    }\n",
       "\n",
       "    .dataframe thead th {\n",
       "        text-align: right;\n",
       "    }\n",
       "</style>\n",
       "<table border=\"1\" class=\"dataframe\">\n",
       "  <thead>\n",
       "    <tr style=\"text-align: right;\">\n",
       "      <th></th>\n",
       "      <th>age</th>\n",
       "      <th>workclass</th>\n",
       "      <th>fnlwgt</th>\n",
       "      <th>education</th>\n",
       "      <th>education-num</th>\n",
       "      <th>marital-status</th>\n",
       "      <th>occupation</th>\n",
       "      <th>relationship</th>\n",
       "      <th>race</th>\n",
       "      <th>sex</th>\n",
       "      <th>capital-gain</th>\n",
       "      <th>capital-loss</th>\n",
       "      <th>hours-per-week</th>\n",
       "      <th>&gt;50K,&lt;=50K</th>\n",
       "    </tr>\n",
       "  </thead>\n",
       "  <tbody>\n",
       "    <tr>\n",
       "      <th>0</th>\n",
       "      <td>34</td>\n",
       "      <td>Local-gov</td>\n",
       "      <td>284843</td>\n",
       "      <td>HS-grad</td>\n",
       "      <td>9</td>\n",
       "      <td>Never-married</td>\n",
       "      <td>Farming-fishing</td>\n",
       "      <td>Not-in-family</td>\n",
       "      <td>Black</td>\n",
       "      <td>Male</td>\n",
       "      <td>594</td>\n",
       "      <td>0</td>\n",
       "      <td>60</td>\n",
       "      <td>&lt;=50K</td>\n",
       "    </tr>\n",
       "    <tr>\n",
       "      <th>1</th>\n",
       "      <td>40</td>\n",
       "      <td>Private</td>\n",
       "      <td>190290</td>\n",
       "      <td>Some-college</td>\n",
       "      <td>10</td>\n",
       "      <td>Divorced</td>\n",
       "      <td>Sales</td>\n",
       "      <td>Not-in-family</td>\n",
       "      <td>White</td>\n",
       "      <td>Male</td>\n",
       "      <td>0</td>\n",
       "      <td>0</td>\n",
       "      <td>40</td>\n",
       "      <td>&lt;=50K</td>\n",
       "    </tr>\n",
       "    <tr>\n",
       "      <th>2</th>\n",
       "      <td>36</td>\n",
       "      <td>Local-gov</td>\n",
       "      <td>177858</td>\n",
       "      <td>Bachelors</td>\n",
       "      <td>13</td>\n",
       "      <td>Married-civ-spouse</td>\n",
       "      <td>Prof-specialty</td>\n",
       "      <td>Own-child</td>\n",
       "      <td>White</td>\n",
       "      <td>Male</td>\n",
       "      <td>0</td>\n",
       "      <td>0</td>\n",
       "      <td>40</td>\n",
       "      <td>&lt;=50K</td>\n",
       "    </tr>\n",
       "    <tr>\n",
       "      <th>3</th>\n",
       "      <td>22</td>\n",
       "      <td>Private</td>\n",
       "      <td>184756</td>\n",
       "      <td>Some-college</td>\n",
       "      <td>10</td>\n",
       "      <td>Never-married</td>\n",
       "      <td>Sales</td>\n",
       "      <td>Own-child</td>\n",
       "      <td>White</td>\n",
       "      <td>Female</td>\n",
       "      <td>0</td>\n",
       "      <td>0</td>\n",
       "      <td>30</td>\n",
       "      <td>&lt;=50K</td>\n",
       "    </tr>\n",
       "    <tr>\n",
       "      <th>4</th>\n",
       "      <td>47</td>\n",
       "      <td>Private</td>\n",
       "      <td>149700</td>\n",
       "      <td>Bachelors</td>\n",
       "      <td>13</td>\n",
       "      <td>Married-civ-spouse</td>\n",
       "      <td>Tech-support</td>\n",
       "      <td>Husband</td>\n",
       "      <td>White</td>\n",
       "      <td>Male</td>\n",
       "      <td>15024</td>\n",
       "      <td>0</td>\n",
       "      <td>40</td>\n",
       "      <td>&gt;50K</td>\n",
       "    </tr>\n",
       "    <tr>\n",
       "      <th>5</th>\n",
       "      <td>18</td>\n",
       "      <td>Private</td>\n",
       "      <td>446771</td>\n",
       "      <td>Some-college</td>\n",
       "      <td>10</td>\n",
       "      <td>Never-married</td>\n",
       "      <td>Adm-clerical</td>\n",
       "      <td>Own-child</td>\n",
       "      <td>White</td>\n",
       "      <td>Male</td>\n",
       "      <td>0</td>\n",
       "      <td>0</td>\n",
       "      <td>25</td>\n",
       "      <td>&lt;=50K</td>\n",
       "    </tr>\n",
       "    <tr>\n",
       "      <th>6</th>\n",
       "      <td>31</td>\n",
       "      <td>Federal-gov</td>\n",
       "      <td>108464</td>\n",
       "      <td>Assoc-acdm</td>\n",
       "      <td>12</td>\n",
       "      <td>Married-civ-spouse</td>\n",
       "      <td>Tech-support</td>\n",
       "      <td>Husband</td>\n",
       "      <td>White</td>\n",
       "      <td>Male</td>\n",
       "      <td>0</td>\n",
       "      <td>0</td>\n",
       "      <td>40</td>\n",
       "      <td>&lt;=50K</td>\n",
       "    </tr>\n",
       "    <tr>\n",
       "      <th>7</th>\n",
       "      <td>18</td>\n",
       "      <td>?</td>\n",
       "      <td>423460</td>\n",
       "      <td>11th</td>\n",
       "      <td>7</td>\n",
       "      <td>Never-married</td>\n",
       "      <td>?</td>\n",
       "      <td>Own-child</td>\n",
       "      <td>White</td>\n",
       "      <td>Male</td>\n",
       "      <td>0</td>\n",
       "      <td>0</td>\n",
       "      <td>36</td>\n",
       "      <td>&lt;=50K</td>\n",
       "    </tr>\n",
       "    <tr>\n",
       "      <th>8</th>\n",
       "      <td>25</td>\n",
       "      <td>Private</td>\n",
       "      <td>110138</td>\n",
       "      <td>HS-grad</td>\n",
       "      <td>9</td>\n",
       "      <td>Never-married</td>\n",
       "      <td>Other-service</td>\n",
       "      <td>Not-in-family</td>\n",
       "      <td>White</td>\n",
       "      <td>Male</td>\n",
       "      <td>0</td>\n",
       "      <td>0</td>\n",
       "      <td>40</td>\n",
       "      <td>&lt;=50K</td>\n",
       "    </tr>\n",
       "    <tr>\n",
       "      <th>9</th>\n",
       "      <td>53</td>\n",
       "      <td>Federal-gov</td>\n",
       "      <td>167410</td>\n",
       "      <td>Bachelors</td>\n",
       "      <td>13</td>\n",
       "      <td>Divorced</td>\n",
       "      <td>Tech-support</td>\n",
       "      <td>Not-in-family</td>\n",
       "      <td>Amer-Indian-Eskimo</td>\n",
       "      <td>Male</td>\n",
       "      <td>0</td>\n",
       "      <td>0</td>\n",
       "      <td>40</td>\n",
       "      <td>&lt;=50K</td>\n",
       "    </tr>\n",
       "  </tbody>\n",
       "</table>\n",
       "</div>"
      ],
      "text/plain": [
       "   age    workclass  fnlwgt     education  education-num      marital-status  \\\n",
       "0   34    Local-gov  284843       HS-grad              9       Never-married   \n",
       "1   40      Private  190290  Some-college             10            Divorced   \n",
       "2   36    Local-gov  177858     Bachelors             13  Married-civ-spouse   \n",
       "3   22      Private  184756  Some-college             10       Never-married   \n",
       "4   47      Private  149700     Bachelors             13  Married-civ-spouse   \n",
       "5   18      Private  446771  Some-college             10       Never-married   \n",
       "6   31  Federal-gov  108464    Assoc-acdm             12  Married-civ-spouse   \n",
       "7   18            ?  423460          11th              7       Never-married   \n",
       "8   25      Private  110138       HS-grad              9       Never-married   \n",
       "9   53  Federal-gov  167410     Bachelors             13            Divorced   \n",
       "\n",
       "        occupation   relationship                race     sex  capital-gain  \\\n",
       "0  Farming-fishing  Not-in-family               Black    Male           594   \n",
       "1            Sales  Not-in-family               White    Male             0   \n",
       "2   Prof-specialty      Own-child               White    Male             0   \n",
       "3            Sales      Own-child               White  Female             0   \n",
       "4     Tech-support        Husband               White    Male         15024   \n",
       "5     Adm-clerical      Own-child               White    Male             0   \n",
       "6     Tech-support        Husband               White    Male             0   \n",
       "7                ?      Own-child               White    Male             0   \n",
       "8    Other-service  Not-in-family               White    Male             0   \n",
       "9     Tech-support  Not-in-family  Amer-Indian-Eskimo    Male             0   \n",
       "\n",
       "   capital-loss  hours-per-week >50K,<=50K  \n",
       "0             0              60      <=50K  \n",
       "1             0              40      <=50K  \n",
       "2             0              40      <=50K  \n",
       "3             0              30      <=50K  \n",
       "4             0              40       >50K  \n",
       "5             0              25      <=50K  \n",
       "6             0              40      <=50K  \n",
       "7             0              36      <=50K  \n",
       "8             0              40      <=50K  \n",
       "9             0              40      <=50K  "
      ]
     },
     "execution_count": 6,
     "metadata": {},
     "output_type": "execute_result"
    }
   ],
   "source": [
    "data[:10]"
   ]
  },
  {
   "cell_type": "markdown",
   "metadata": {
    "id": "r73oSpt7gJ2J"
   },
   "source": [
    "### Задание\n",
    "Проведите с данными необходимые операции:\n",
    "\n",
    "* Замените все знаки \"?\" на `np.nan`.\n",
    "* Найдите все столбцы со значениями NaN. Напечатайте их названия.\n",
    "* Выделите вектор ответов. Закодируйте правильные ответы 0 и 1:\n",
    "    * '<=50K' -> 0;\n",
    "    * '>50K' -> 1.\n",
    "* Сохраните их в отдельную переменную `y` типа `np.array`.\n",
    "* Удалите из data правильные ответы."
   ]
  },
  {
   "cell_type": "code",
   "execution_count": 7,
   "metadata": {
    "id": "mXlICdKqgdX9"
   },
   "outputs": [
    {
     "data": {
      "text/html": [
       "<div>\n",
       "<style scoped>\n",
       "    .dataframe tbody tr th:only-of-type {\n",
       "        vertical-align: middle;\n",
       "    }\n",
       "\n",
       "    .dataframe tbody tr th {\n",
       "        vertical-align: top;\n",
       "    }\n",
       "\n",
       "    .dataframe thead th {\n",
       "        text-align: right;\n",
       "    }\n",
       "</style>\n",
       "<table border=\"1\" class=\"dataframe\">\n",
       "  <thead>\n",
       "    <tr style=\"text-align: right;\">\n",
       "      <th></th>\n",
       "      <th>age</th>\n",
       "      <th>workclass</th>\n",
       "      <th>fnlwgt</th>\n",
       "      <th>education</th>\n",
       "      <th>education-num</th>\n",
       "      <th>marital-status</th>\n",
       "      <th>occupation</th>\n",
       "      <th>relationship</th>\n",
       "      <th>race</th>\n",
       "      <th>sex</th>\n",
       "      <th>capital-gain</th>\n",
       "      <th>capital-loss</th>\n",
       "      <th>hours-per-week</th>\n",
       "    </tr>\n",
       "  </thead>\n",
       "  <tbody>\n",
       "    <tr>\n",
       "      <th>0</th>\n",
       "      <td>34</td>\n",
       "      <td>Local-gov</td>\n",
       "      <td>284843</td>\n",
       "      <td>HS-grad</td>\n",
       "      <td>9</td>\n",
       "      <td>Never-married</td>\n",
       "      <td>Farming-fishing</td>\n",
       "      <td>Not-in-family</td>\n",
       "      <td>Black</td>\n",
       "      <td>Male</td>\n",
       "      <td>594</td>\n",
       "      <td>0</td>\n",
       "      <td>60</td>\n",
       "    </tr>\n",
       "    <tr>\n",
       "      <th>1</th>\n",
       "      <td>40</td>\n",
       "      <td>Private</td>\n",
       "      <td>190290</td>\n",
       "      <td>Some-college</td>\n",
       "      <td>10</td>\n",
       "      <td>Divorced</td>\n",
       "      <td>Sales</td>\n",
       "      <td>Not-in-family</td>\n",
       "      <td>White</td>\n",
       "      <td>Male</td>\n",
       "      <td>0</td>\n",
       "      <td>0</td>\n",
       "      <td>40</td>\n",
       "    </tr>\n",
       "    <tr>\n",
       "      <th>2</th>\n",
       "      <td>36</td>\n",
       "      <td>Local-gov</td>\n",
       "      <td>177858</td>\n",
       "      <td>Bachelors</td>\n",
       "      <td>13</td>\n",
       "      <td>Married-civ-spouse</td>\n",
       "      <td>Prof-specialty</td>\n",
       "      <td>Own-child</td>\n",
       "      <td>White</td>\n",
       "      <td>Male</td>\n",
       "      <td>0</td>\n",
       "      <td>0</td>\n",
       "      <td>40</td>\n",
       "    </tr>\n",
       "    <tr>\n",
       "      <th>3</th>\n",
       "      <td>22</td>\n",
       "      <td>Private</td>\n",
       "      <td>184756</td>\n",
       "      <td>Some-college</td>\n",
       "      <td>10</td>\n",
       "      <td>Never-married</td>\n",
       "      <td>Sales</td>\n",
       "      <td>Own-child</td>\n",
       "      <td>White</td>\n",
       "      <td>Female</td>\n",
       "      <td>0</td>\n",
       "      <td>0</td>\n",
       "      <td>30</td>\n",
       "    </tr>\n",
       "    <tr>\n",
       "      <th>4</th>\n",
       "      <td>47</td>\n",
       "      <td>Private</td>\n",
       "      <td>149700</td>\n",
       "      <td>Bachelors</td>\n",
       "      <td>13</td>\n",
       "      <td>Married-civ-spouse</td>\n",
       "      <td>Tech-support</td>\n",
       "      <td>Husband</td>\n",
       "      <td>White</td>\n",
       "      <td>Male</td>\n",
       "      <td>15024</td>\n",
       "      <td>0</td>\n",
       "      <td>40</td>\n",
       "    </tr>\n",
       "    <tr>\n",
       "      <th>5</th>\n",
       "      <td>18</td>\n",
       "      <td>Private</td>\n",
       "      <td>446771</td>\n",
       "      <td>Some-college</td>\n",
       "      <td>10</td>\n",
       "      <td>Never-married</td>\n",
       "      <td>Adm-clerical</td>\n",
       "      <td>Own-child</td>\n",
       "      <td>White</td>\n",
       "      <td>Male</td>\n",
       "      <td>0</td>\n",
       "      <td>0</td>\n",
       "      <td>25</td>\n",
       "    </tr>\n",
       "    <tr>\n",
       "      <th>6</th>\n",
       "      <td>31</td>\n",
       "      <td>Federal-gov</td>\n",
       "      <td>108464</td>\n",
       "      <td>Assoc-acdm</td>\n",
       "      <td>12</td>\n",
       "      <td>Married-civ-spouse</td>\n",
       "      <td>Tech-support</td>\n",
       "      <td>Husband</td>\n",
       "      <td>White</td>\n",
       "      <td>Male</td>\n",
       "      <td>0</td>\n",
       "      <td>0</td>\n",
       "      <td>40</td>\n",
       "    </tr>\n",
       "    <tr>\n",
       "      <th>7</th>\n",
       "      <td>18</td>\n",
       "      <td>NaN</td>\n",
       "      <td>423460</td>\n",
       "      <td>11th</td>\n",
       "      <td>7</td>\n",
       "      <td>Never-married</td>\n",
       "      <td>NaN</td>\n",
       "      <td>Own-child</td>\n",
       "      <td>White</td>\n",
       "      <td>Male</td>\n",
       "      <td>0</td>\n",
       "      <td>0</td>\n",
       "      <td>36</td>\n",
       "    </tr>\n",
       "    <tr>\n",
       "      <th>8</th>\n",
       "      <td>25</td>\n",
       "      <td>Private</td>\n",
       "      <td>110138</td>\n",
       "      <td>HS-grad</td>\n",
       "      <td>9</td>\n",
       "      <td>Never-married</td>\n",
       "      <td>Other-service</td>\n",
       "      <td>Not-in-family</td>\n",
       "      <td>White</td>\n",
       "      <td>Male</td>\n",
       "      <td>0</td>\n",
       "      <td>0</td>\n",
       "      <td>40</td>\n",
       "    </tr>\n",
       "    <tr>\n",
       "      <th>9</th>\n",
       "      <td>53</td>\n",
       "      <td>Federal-gov</td>\n",
       "      <td>167410</td>\n",
       "      <td>Bachelors</td>\n",
       "      <td>13</td>\n",
       "      <td>Divorced</td>\n",
       "      <td>Tech-support</td>\n",
       "      <td>Not-in-family</td>\n",
       "      <td>Amer-Indian-Eskimo</td>\n",
       "      <td>Male</td>\n",
       "      <td>0</td>\n",
       "      <td>0</td>\n",
       "      <td>40</td>\n",
       "    </tr>\n",
       "  </tbody>\n",
       "</table>\n",
       "</div>"
      ],
      "text/plain": [
       "   age    workclass  fnlwgt     education  education-num      marital-status  \\\n",
       "0   34    Local-gov  284843       HS-grad              9       Never-married   \n",
       "1   40      Private  190290  Some-college             10            Divorced   \n",
       "2   36    Local-gov  177858     Bachelors             13  Married-civ-spouse   \n",
       "3   22      Private  184756  Some-college             10       Never-married   \n",
       "4   47      Private  149700     Bachelors             13  Married-civ-spouse   \n",
       "5   18      Private  446771  Some-college             10       Never-married   \n",
       "6   31  Federal-gov  108464    Assoc-acdm             12  Married-civ-spouse   \n",
       "7   18          NaN  423460          11th              7       Never-married   \n",
       "8   25      Private  110138       HS-grad              9       Never-married   \n",
       "9   53  Federal-gov  167410     Bachelors             13            Divorced   \n",
       "\n",
       "        occupation   relationship                race     sex  capital-gain  \\\n",
       "0  Farming-fishing  Not-in-family               Black    Male           594   \n",
       "1            Sales  Not-in-family               White    Male             0   \n",
       "2   Prof-specialty      Own-child               White    Male             0   \n",
       "3            Sales      Own-child               White  Female             0   \n",
       "4     Tech-support        Husband               White    Male         15024   \n",
       "5     Adm-clerical      Own-child               White    Male             0   \n",
       "6     Tech-support        Husband               White    Male             0   \n",
       "7              NaN      Own-child               White    Male             0   \n",
       "8    Other-service  Not-in-family               White    Male             0   \n",
       "9     Tech-support  Not-in-family  Amer-Indian-Eskimo    Male             0   \n",
       "\n",
       "   capital-loss  hours-per-week  \n",
       "0             0              60  \n",
       "1             0              40  \n",
       "2             0              40  \n",
       "3             0              30  \n",
       "4             0              40  \n",
       "5             0              25  \n",
       "6             0              40  \n",
       "7             0              36  \n",
       "8             0              40  \n",
       "9             0              40  "
      ]
     },
     "execution_count": 7,
     "metadata": {},
     "output_type": "execute_result"
    }
   ],
   "source": [
    "data = data.replace('?', np.nan)\n",
    "y = data['>50K,<=50K']\n",
    "y = y.replace('>50K', 1)\n",
    "y = y.replace('<=50K', 0)\n",
    "data = data.drop('>50K,<=50K', axis = 1)\n",
    "data[:10]"
   ]
  },
  {
   "cell_type": "markdown",
   "metadata": {
    "id": "PPUP7ZiDTbOP"
   },
   "source": [
    "**Вопрос**. В каких колонках присутствуют пропущенные значения?"
   ]
  },
  {
   "cell_type": "code",
   "execution_count": 8,
   "metadata": {
    "id": "ytnQP7QAglE3"
   },
   "outputs": [
    {
     "name": "stdout",
     "output_type": "stream",
     "text": [
      "<class 'pandas.core.frame.DataFrame'>\n",
      "RangeIndex: 14734 entries, 0 to 14733\n",
      "Data columns (total 13 columns):\n",
      " #   Column          Non-Null Count  Dtype \n",
      "---  ------          --------------  ----- \n",
      " 0   age             14734 non-null  int64 \n",
      " 1   workclass       13874 non-null  object\n",
      " 2   fnlwgt          14734 non-null  int64 \n",
      " 3   education       14734 non-null  object\n",
      " 4   education-num   14734 non-null  int64 \n",
      " 5   marital-status  14734 non-null  object\n",
      " 6   occupation      13870 non-null  object\n",
      " 7   relationship    14734 non-null  object\n",
      " 8   race            14734 non-null  object\n",
      " 9   sex             14734 non-null  object\n",
      " 10  capital-gain    14734 non-null  int64 \n",
      " 11  capital-loss    14734 non-null  int64 \n",
      " 12  hours-per-week  14734 non-null  int64 \n",
      "dtypes: int64(6), object(7)\n",
      "memory usage: 1.5+ MB\n"
     ]
    }
   ],
   "source": [
    "data.info()"
   ]
  },
  {
   "cell_type": "markdown",
   "metadata": {
    "id": "nlnToxmFhqE9"
   },
   "source": [
    "**Вопрос**. Какие из признаков являются вещественными?\n",
    "\n",
    "Выделите вещественные и категориальные признаки."
   ]
  },
  {
   "cell_type": "code",
   "execution_count": 9,
   "metadata": {
    "id": "18laWWWzenxm"
   },
   "outputs": [
    {
     "data": {
      "text/html": [
       "<div>\n",
       "<style scoped>\n",
       "    .dataframe tbody tr th:only-of-type {\n",
       "        vertical-align: middle;\n",
       "    }\n",
       "\n",
       "    .dataframe tbody tr th {\n",
       "        vertical-align: top;\n",
       "    }\n",
       "\n",
       "    .dataframe thead th {\n",
       "        text-align: right;\n",
       "    }\n",
       "</style>\n",
       "<table border=\"1\" class=\"dataframe\">\n",
       "  <thead>\n",
       "    <tr style=\"text-align: right;\">\n",
       "      <th></th>\n",
       "      <th>age</th>\n",
       "      <th>fnlwgt</th>\n",
       "      <th>education-num</th>\n",
       "      <th>capital-gain</th>\n",
       "      <th>capital-loss</th>\n",
       "      <th>hours-per-week</th>\n",
       "    </tr>\n",
       "  </thead>\n",
       "  <tbody>\n",
       "    <tr>\n",
       "      <th>0</th>\n",
       "      <td>34</td>\n",
       "      <td>284843</td>\n",
       "      <td>9</td>\n",
       "      <td>594</td>\n",
       "      <td>0</td>\n",
       "      <td>60</td>\n",
       "    </tr>\n",
       "    <tr>\n",
       "      <th>1</th>\n",
       "      <td>40</td>\n",
       "      <td>190290</td>\n",
       "      <td>10</td>\n",
       "      <td>0</td>\n",
       "      <td>0</td>\n",
       "      <td>40</td>\n",
       "    </tr>\n",
       "    <tr>\n",
       "      <th>2</th>\n",
       "      <td>36</td>\n",
       "      <td>177858</td>\n",
       "      <td>13</td>\n",
       "      <td>0</td>\n",
       "      <td>0</td>\n",
       "      <td>40</td>\n",
       "    </tr>\n",
       "    <tr>\n",
       "      <th>3</th>\n",
       "      <td>22</td>\n",
       "      <td>184756</td>\n",
       "      <td>10</td>\n",
       "      <td>0</td>\n",
       "      <td>0</td>\n",
       "      <td>30</td>\n",
       "    </tr>\n",
       "    <tr>\n",
       "      <th>4</th>\n",
       "      <td>47</td>\n",
       "      <td>149700</td>\n",
       "      <td>13</td>\n",
       "      <td>15024</td>\n",
       "      <td>0</td>\n",
       "      <td>40</td>\n",
       "    </tr>\n",
       "    <tr>\n",
       "      <th>5</th>\n",
       "      <td>18</td>\n",
       "      <td>446771</td>\n",
       "      <td>10</td>\n",
       "      <td>0</td>\n",
       "      <td>0</td>\n",
       "      <td>25</td>\n",
       "    </tr>\n",
       "    <tr>\n",
       "      <th>6</th>\n",
       "      <td>31</td>\n",
       "      <td>108464</td>\n",
       "      <td>12</td>\n",
       "      <td>0</td>\n",
       "      <td>0</td>\n",
       "      <td>40</td>\n",
       "    </tr>\n",
       "    <tr>\n",
       "      <th>7</th>\n",
       "      <td>18</td>\n",
       "      <td>423460</td>\n",
       "      <td>7</td>\n",
       "      <td>0</td>\n",
       "      <td>0</td>\n",
       "      <td>36</td>\n",
       "    </tr>\n",
       "    <tr>\n",
       "      <th>8</th>\n",
       "      <td>25</td>\n",
       "      <td>110138</td>\n",
       "      <td>9</td>\n",
       "      <td>0</td>\n",
       "      <td>0</td>\n",
       "      <td>40</td>\n",
       "    </tr>\n",
       "    <tr>\n",
       "      <th>9</th>\n",
       "      <td>53</td>\n",
       "      <td>167410</td>\n",
       "      <td>13</td>\n",
       "      <td>0</td>\n",
       "      <td>0</td>\n",
       "      <td>40</td>\n",
       "    </tr>\n",
       "  </tbody>\n",
       "</table>\n",
       "</div>"
      ],
      "text/plain": [
       "   age  fnlwgt  education-num  capital-gain  capital-loss  hours-per-week\n",
       "0   34  284843              9           594             0              60\n",
       "1   40  190290             10             0             0              40\n",
       "2   36  177858             13             0             0              40\n",
       "3   22  184756             10             0             0              30\n",
       "4   47  149700             13         15024             0              40\n",
       "5   18  446771             10             0             0              25\n",
       "6   31  108464             12             0             0              40\n",
       "7   18  423460              7             0             0              36\n",
       "8   25  110138              9             0             0              40\n",
       "9   53  167410             13             0             0              40"
      ]
     },
     "execution_count": 9,
     "metadata": {},
     "output_type": "execute_result"
    }
   ],
   "source": [
    "real_columns = [\"age\", \"fnlwgt\", \"education-num\", \"capital-gain\", \"capital-loss\", \"hours-per-week\"]\n",
    "\n",
    "real_data = data[real_columns]\n",
    "real_data[:10]"
   ]
  },
  {
   "cell_type": "code",
   "execution_count": 10,
   "metadata": {
    "id": "92_XZLWWhzOv"
   },
   "outputs": [
    {
     "data": {
      "text/html": [
       "<div>\n",
       "<style scoped>\n",
       "    .dataframe tbody tr th:only-of-type {\n",
       "        vertical-align: middle;\n",
       "    }\n",
       "\n",
       "    .dataframe tbody tr th {\n",
       "        vertical-align: top;\n",
       "    }\n",
       "\n",
       "    .dataframe thead th {\n",
       "        text-align: right;\n",
       "    }\n",
       "</style>\n",
       "<table border=\"1\" class=\"dataframe\">\n",
       "  <thead>\n",
       "    <tr style=\"text-align: right;\">\n",
       "      <th></th>\n",
       "      <th>workclass</th>\n",
       "      <th>education</th>\n",
       "      <th>marital-status</th>\n",
       "      <th>occupation</th>\n",
       "      <th>relationship</th>\n",
       "      <th>race</th>\n",
       "      <th>sex</th>\n",
       "    </tr>\n",
       "  </thead>\n",
       "  <tbody>\n",
       "    <tr>\n",
       "      <th>0</th>\n",
       "      <td>Local-gov</td>\n",
       "      <td>HS-grad</td>\n",
       "      <td>Never-married</td>\n",
       "      <td>Farming-fishing</td>\n",
       "      <td>Not-in-family</td>\n",
       "      <td>Black</td>\n",
       "      <td>Male</td>\n",
       "    </tr>\n",
       "    <tr>\n",
       "      <th>1</th>\n",
       "      <td>Private</td>\n",
       "      <td>Some-college</td>\n",
       "      <td>Divorced</td>\n",
       "      <td>Sales</td>\n",
       "      <td>Not-in-family</td>\n",
       "      <td>White</td>\n",
       "      <td>Male</td>\n",
       "    </tr>\n",
       "    <tr>\n",
       "      <th>2</th>\n",
       "      <td>Local-gov</td>\n",
       "      <td>Bachelors</td>\n",
       "      <td>Married-civ-spouse</td>\n",
       "      <td>Prof-specialty</td>\n",
       "      <td>Own-child</td>\n",
       "      <td>White</td>\n",
       "      <td>Male</td>\n",
       "    </tr>\n",
       "    <tr>\n",
       "      <th>3</th>\n",
       "      <td>Private</td>\n",
       "      <td>Some-college</td>\n",
       "      <td>Never-married</td>\n",
       "      <td>Sales</td>\n",
       "      <td>Own-child</td>\n",
       "      <td>White</td>\n",
       "      <td>Female</td>\n",
       "    </tr>\n",
       "    <tr>\n",
       "      <th>4</th>\n",
       "      <td>Private</td>\n",
       "      <td>Bachelors</td>\n",
       "      <td>Married-civ-spouse</td>\n",
       "      <td>Tech-support</td>\n",
       "      <td>Husband</td>\n",
       "      <td>White</td>\n",
       "      <td>Male</td>\n",
       "    </tr>\n",
       "    <tr>\n",
       "      <th>5</th>\n",
       "      <td>Private</td>\n",
       "      <td>Some-college</td>\n",
       "      <td>Never-married</td>\n",
       "      <td>Adm-clerical</td>\n",
       "      <td>Own-child</td>\n",
       "      <td>White</td>\n",
       "      <td>Male</td>\n",
       "    </tr>\n",
       "    <tr>\n",
       "      <th>6</th>\n",
       "      <td>Federal-gov</td>\n",
       "      <td>Assoc-acdm</td>\n",
       "      <td>Married-civ-spouse</td>\n",
       "      <td>Tech-support</td>\n",
       "      <td>Husband</td>\n",
       "      <td>White</td>\n",
       "      <td>Male</td>\n",
       "    </tr>\n",
       "    <tr>\n",
       "      <th>7</th>\n",
       "      <td>NaN</td>\n",
       "      <td>11th</td>\n",
       "      <td>Never-married</td>\n",
       "      <td>NaN</td>\n",
       "      <td>Own-child</td>\n",
       "      <td>White</td>\n",
       "      <td>Male</td>\n",
       "    </tr>\n",
       "    <tr>\n",
       "      <th>8</th>\n",
       "      <td>Private</td>\n",
       "      <td>HS-grad</td>\n",
       "      <td>Never-married</td>\n",
       "      <td>Other-service</td>\n",
       "      <td>Not-in-family</td>\n",
       "      <td>White</td>\n",
       "      <td>Male</td>\n",
       "    </tr>\n",
       "    <tr>\n",
       "      <th>9</th>\n",
       "      <td>Federal-gov</td>\n",
       "      <td>Bachelors</td>\n",
       "      <td>Divorced</td>\n",
       "      <td>Tech-support</td>\n",
       "      <td>Not-in-family</td>\n",
       "      <td>Amer-Indian-Eskimo</td>\n",
       "      <td>Male</td>\n",
       "    </tr>\n",
       "  </tbody>\n",
       "</table>\n",
       "</div>"
      ],
      "text/plain": [
       "     workclass     education      marital-status       occupation  \\\n",
       "0    Local-gov       HS-grad       Never-married  Farming-fishing   \n",
       "1      Private  Some-college            Divorced            Sales   \n",
       "2    Local-gov     Bachelors  Married-civ-spouse   Prof-specialty   \n",
       "3      Private  Some-college       Never-married            Sales   \n",
       "4      Private     Bachelors  Married-civ-spouse     Tech-support   \n",
       "5      Private  Some-college       Never-married     Adm-clerical   \n",
       "6  Federal-gov    Assoc-acdm  Married-civ-spouse     Tech-support   \n",
       "7          NaN          11th       Never-married              NaN   \n",
       "8      Private       HS-grad       Never-married    Other-service   \n",
       "9  Federal-gov     Bachelors            Divorced     Tech-support   \n",
       "\n",
       "    relationship                race     sex  \n",
       "0  Not-in-family               Black    Male  \n",
       "1  Not-in-family               White    Male  \n",
       "2      Own-child               White    Male  \n",
       "3      Own-child               White  Female  \n",
       "4        Husband               White    Male  \n",
       "5      Own-child               White    Male  \n",
       "6        Husband               White    Male  \n",
       "7      Own-child               White    Male  \n",
       "8  Not-in-family               White    Male  \n",
       "9  Not-in-family  Amer-Indian-Eskimo    Male  "
      ]
     },
     "execution_count": 10,
     "metadata": {},
     "output_type": "execute_result"
    }
   ],
   "source": [
    "cat_columns = [\"workclass\", \"education\", \"marital-status\", \"occupation\", \"relationship\", \"race\", \"sex\"]\n",
    "\n",
    "cat_data = data[cat_columns]\n",
    "cat_data[:10]"
   ]
  },
  {
   "cell_type": "markdown",
   "metadata": {
    "id": "pczwiJKliLFF"
   },
   "source": [
    "### Задание\n",
    "Выделите One-hot признаки из данных с помощю объекта `OneHotEncoder` из модуля `sklearn.preprocessing`."
   ]
  },
  {
   "cell_type": "code",
   "execution_count": 11,
   "metadata": {
    "id": "aECoFnirKuxo"
   },
   "outputs": [],
   "source": [
    "from sklearn.preprocessing import OneHotEncoder"
   ]
  },
  {
   "cell_type": "code",
   "execution_count": 12,
   "metadata": {
    "id": "ZpH5pTkViDQy",
    "scrolled": true
   },
   "outputs": [
    {
     "data": {
      "text/html": [
       "<div>\n",
       "<style scoped>\n",
       "    .dataframe tbody tr th:only-of-type {\n",
       "        vertical-align: middle;\n",
       "    }\n",
       "\n",
       "    .dataframe tbody tr th {\n",
       "        vertical-align: top;\n",
       "    }\n",
       "\n",
       "    .dataframe thead th {\n",
       "        text-align: right;\n",
       "    }\n",
       "</style>\n",
       "<table border=\"1\" class=\"dataframe\">\n",
       "  <thead>\n",
       "    <tr style=\"text-align: right;\">\n",
       "      <th></th>\n",
       "      <th>workclass_Federal-gov</th>\n",
       "      <th>workclass_Local-gov</th>\n",
       "      <th>workclass_Never-worked</th>\n",
       "      <th>workclass_Private</th>\n",
       "      <th>workclass_Self-emp-inc</th>\n",
       "      <th>workclass_Self-emp-not-inc</th>\n",
       "      <th>workclass_State-gov</th>\n",
       "      <th>workclass_Without-pay</th>\n",
       "      <th>workclass_nan</th>\n",
       "      <th>education_10th</th>\n",
       "      <th>...</th>\n",
       "      <th>relationship_Own-child</th>\n",
       "      <th>relationship_Unmarried</th>\n",
       "      <th>relationship_Wife</th>\n",
       "      <th>race_Amer-Indian-Eskimo</th>\n",
       "      <th>race_Asian-Pac-Islander</th>\n",
       "      <th>race_Black</th>\n",
       "      <th>race_Other</th>\n",
       "      <th>race_White</th>\n",
       "      <th>sex_Female</th>\n",
       "      <th>sex_Male</th>\n",
       "    </tr>\n",
       "  </thead>\n",
       "  <tbody>\n",
       "    <tr>\n",
       "      <th>0</th>\n",
       "      <td>0.0</td>\n",
       "      <td>1.0</td>\n",
       "      <td>0.0</td>\n",
       "      <td>0.0</td>\n",
       "      <td>0.0</td>\n",
       "      <td>0.0</td>\n",
       "      <td>0.0</td>\n",
       "      <td>0.0</td>\n",
       "      <td>0.0</td>\n",
       "      <td>0.0</td>\n",
       "      <td>...</td>\n",
       "      <td>0.0</td>\n",
       "      <td>0.0</td>\n",
       "      <td>0.0</td>\n",
       "      <td>0.0</td>\n",
       "      <td>0.0</td>\n",
       "      <td>1.0</td>\n",
       "      <td>0.0</td>\n",
       "      <td>0.0</td>\n",
       "      <td>0.0</td>\n",
       "      <td>1.0</td>\n",
       "    </tr>\n",
       "    <tr>\n",
       "      <th>1</th>\n",
       "      <td>0.0</td>\n",
       "      <td>0.0</td>\n",
       "      <td>0.0</td>\n",
       "      <td>1.0</td>\n",
       "      <td>0.0</td>\n",
       "      <td>0.0</td>\n",
       "      <td>0.0</td>\n",
       "      <td>0.0</td>\n",
       "      <td>0.0</td>\n",
       "      <td>0.0</td>\n",
       "      <td>...</td>\n",
       "      <td>0.0</td>\n",
       "      <td>0.0</td>\n",
       "      <td>0.0</td>\n",
       "      <td>0.0</td>\n",
       "      <td>0.0</td>\n",
       "      <td>0.0</td>\n",
       "      <td>0.0</td>\n",
       "      <td>1.0</td>\n",
       "      <td>0.0</td>\n",
       "      <td>1.0</td>\n",
       "    </tr>\n",
       "    <tr>\n",
       "      <th>2</th>\n",
       "      <td>0.0</td>\n",
       "      <td>1.0</td>\n",
       "      <td>0.0</td>\n",
       "      <td>0.0</td>\n",
       "      <td>0.0</td>\n",
       "      <td>0.0</td>\n",
       "      <td>0.0</td>\n",
       "      <td>0.0</td>\n",
       "      <td>0.0</td>\n",
       "      <td>0.0</td>\n",
       "      <td>...</td>\n",
       "      <td>1.0</td>\n",
       "      <td>0.0</td>\n",
       "      <td>0.0</td>\n",
       "      <td>0.0</td>\n",
       "      <td>0.0</td>\n",
       "      <td>0.0</td>\n",
       "      <td>0.0</td>\n",
       "      <td>1.0</td>\n",
       "      <td>0.0</td>\n",
       "      <td>1.0</td>\n",
       "    </tr>\n",
       "    <tr>\n",
       "      <th>3</th>\n",
       "      <td>0.0</td>\n",
       "      <td>0.0</td>\n",
       "      <td>0.0</td>\n",
       "      <td>1.0</td>\n",
       "      <td>0.0</td>\n",
       "      <td>0.0</td>\n",
       "      <td>0.0</td>\n",
       "      <td>0.0</td>\n",
       "      <td>0.0</td>\n",
       "      <td>0.0</td>\n",
       "      <td>...</td>\n",
       "      <td>1.0</td>\n",
       "      <td>0.0</td>\n",
       "      <td>0.0</td>\n",
       "      <td>0.0</td>\n",
       "      <td>0.0</td>\n",
       "      <td>0.0</td>\n",
       "      <td>0.0</td>\n",
       "      <td>1.0</td>\n",
       "      <td>1.0</td>\n",
       "      <td>0.0</td>\n",
       "    </tr>\n",
       "    <tr>\n",
       "      <th>4</th>\n",
       "      <td>0.0</td>\n",
       "      <td>0.0</td>\n",
       "      <td>0.0</td>\n",
       "      <td>1.0</td>\n",
       "      <td>0.0</td>\n",
       "      <td>0.0</td>\n",
       "      <td>0.0</td>\n",
       "      <td>0.0</td>\n",
       "      <td>0.0</td>\n",
       "      <td>0.0</td>\n",
       "      <td>...</td>\n",
       "      <td>0.0</td>\n",
       "      <td>0.0</td>\n",
       "      <td>0.0</td>\n",
       "      <td>0.0</td>\n",
       "      <td>0.0</td>\n",
       "      <td>0.0</td>\n",
       "      <td>0.0</td>\n",
       "      <td>1.0</td>\n",
       "      <td>0.0</td>\n",
       "      <td>1.0</td>\n",
       "    </tr>\n",
       "    <tr>\n",
       "      <th>5</th>\n",
       "      <td>0.0</td>\n",
       "      <td>0.0</td>\n",
       "      <td>0.0</td>\n",
       "      <td>1.0</td>\n",
       "      <td>0.0</td>\n",
       "      <td>0.0</td>\n",
       "      <td>0.0</td>\n",
       "      <td>0.0</td>\n",
       "      <td>0.0</td>\n",
       "      <td>0.0</td>\n",
       "      <td>...</td>\n",
       "      <td>1.0</td>\n",
       "      <td>0.0</td>\n",
       "      <td>0.0</td>\n",
       "      <td>0.0</td>\n",
       "      <td>0.0</td>\n",
       "      <td>0.0</td>\n",
       "      <td>0.0</td>\n",
       "      <td>1.0</td>\n",
       "      <td>0.0</td>\n",
       "      <td>1.0</td>\n",
       "    </tr>\n",
       "    <tr>\n",
       "      <th>6</th>\n",
       "      <td>1.0</td>\n",
       "      <td>0.0</td>\n",
       "      <td>0.0</td>\n",
       "      <td>0.0</td>\n",
       "      <td>0.0</td>\n",
       "      <td>0.0</td>\n",
       "      <td>0.0</td>\n",
       "      <td>0.0</td>\n",
       "      <td>0.0</td>\n",
       "      <td>0.0</td>\n",
       "      <td>...</td>\n",
       "      <td>0.0</td>\n",
       "      <td>0.0</td>\n",
       "      <td>0.0</td>\n",
       "      <td>0.0</td>\n",
       "      <td>0.0</td>\n",
       "      <td>0.0</td>\n",
       "      <td>0.0</td>\n",
       "      <td>1.0</td>\n",
       "      <td>0.0</td>\n",
       "      <td>1.0</td>\n",
       "    </tr>\n",
       "    <tr>\n",
       "      <th>7</th>\n",
       "      <td>0.0</td>\n",
       "      <td>0.0</td>\n",
       "      <td>0.0</td>\n",
       "      <td>0.0</td>\n",
       "      <td>0.0</td>\n",
       "      <td>0.0</td>\n",
       "      <td>0.0</td>\n",
       "      <td>0.0</td>\n",
       "      <td>1.0</td>\n",
       "      <td>0.0</td>\n",
       "      <td>...</td>\n",
       "      <td>1.0</td>\n",
       "      <td>0.0</td>\n",
       "      <td>0.0</td>\n",
       "      <td>0.0</td>\n",
       "      <td>0.0</td>\n",
       "      <td>0.0</td>\n",
       "      <td>0.0</td>\n",
       "      <td>1.0</td>\n",
       "      <td>0.0</td>\n",
       "      <td>1.0</td>\n",
       "    </tr>\n",
       "    <tr>\n",
       "      <th>8</th>\n",
       "      <td>0.0</td>\n",
       "      <td>0.0</td>\n",
       "      <td>0.0</td>\n",
       "      <td>1.0</td>\n",
       "      <td>0.0</td>\n",
       "      <td>0.0</td>\n",
       "      <td>0.0</td>\n",
       "      <td>0.0</td>\n",
       "      <td>0.0</td>\n",
       "      <td>0.0</td>\n",
       "      <td>...</td>\n",
       "      <td>0.0</td>\n",
       "      <td>0.0</td>\n",
       "      <td>0.0</td>\n",
       "      <td>0.0</td>\n",
       "      <td>0.0</td>\n",
       "      <td>0.0</td>\n",
       "      <td>0.0</td>\n",
       "      <td>1.0</td>\n",
       "      <td>0.0</td>\n",
       "      <td>1.0</td>\n",
       "    </tr>\n",
       "    <tr>\n",
       "      <th>9</th>\n",
       "      <td>1.0</td>\n",
       "      <td>0.0</td>\n",
       "      <td>0.0</td>\n",
       "      <td>0.0</td>\n",
       "      <td>0.0</td>\n",
       "      <td>0.0</td>\n",
       "      <td>0.0</td>\n",
       "      <td>0.0</td>\n",
       "      <td>0.0</td>\n",
       "      <td>0.0</td>\n",
       "      <td>...</td>\n",
       "      <td>0.0</td>\n",
       "      <td>0.0</td>\n",
       "      <td>0.0</td>\n",
       "      <td>1.0</td>\n",
       "      <td>0.0</td>\n",
       "      <td>0.0</td>\n",
       "      <td>0.0</td>\n",
       "      <td>0.0</td>\n",
       "      <td>0.0</td>\n",
       "      <td>1.0</td>\n",
       "    </tr>\n",
       "  </tbody>\n",
       "</table>\n",
       "<p>10 rows × 60 columns</p>\n",
       "</div>"
      ],
      "text/plain": [
       "   workclass_Federal-gov  workclass_Local-gov  workclass_Never-worked  \\\n",
       "0                    0.0                  1.0                     0.0   \n",
       "1                    0.0                  0.0                     0.0   \n",
       "2                    0.0                  1.0                     0.0   \n",
       "3                    0.0                  0.0                     0.0   \n",
       "4                    0.0                  0.0                     0.0   \n",
       "5                    0.0                  0.0                     0.0   \n",
       "6                    1.0                  0.0                     0.0   \n",
       "7                    0.0                  0.0                     0.0   \n",
       "8                    0.0                  0.0                     0.0   \n",
       "9                    1.0                  0.0                     0.0   \n",
       "\n",
       "   workclass_Private  workclass_Self-emp-inc  workclass_Self-emp-not-inc  \\\n",
       "0                0.0                     0.0                         0.0   \n",
       "1                1.0                     0.0                         0.0   \n",
       "2                0.0                     0.0                         0.0   \n",
       "3                1.0                     0.0                         0.0   \n",
       "4                1.0                     0.0                         0.0   \n",
       "5                1.0                     0.0                         0.0   \n",
       "6                0.0                     0.0                         0.0   \n",
       "7                0.0                     0.0                         0.0   \n",
       "8                1.0                     0.0                         0.0   \n",
       "9                0.0                     0.0                         0.0   \n",
       "\n",
       "   workclass_State-gov  workclass_Without-pay  workclass_nan  education_10th  \\\n",
       "0                  0.0                    0.0            0.0             0.0   \n",
       "1                  0.0                    0.0            0.0             0.0   \n",
       "2                  0.0                    0.0            0.0             0.0   \n",
       "3                  0.0                    0.0            0.0             0.0   \n",
       "4                  0.0                    0.0            0.0             0.0   \n",
       "5                  0.0                    0.0            0.0             0.0   \n",
       "6                  0.0                    0.0            0.0             0.0   \n",
       "7                  0.0                    0.0            1.0             0.0   \n",
       "8                  0.0                    0.0            0.0             0.0   \n",
       "9                  0.0                    0.0            0.0             0.0   \n",
       "\n",
       "   ...  relationship_Own-child  relationship_Unmarried  relationship_Wife  \\\n",
       "0  ...                     0.0                     0.0                0.0   \n",
       "1  ...                     0.0                     0.0                0.0   \n",
       "2  ...                     1.0                     0.0                0.0   \n",
       "3  ...                     1.0                     0.0                0.0   \n",
       "4  ...                     0.0                     0.0                0.0   \n",
       "5  ...                     1.0                     0.0                0.0   \n",
       "6  ...                     0.0                     0.0                0.0   \n",
       "7  ...                     1.0                     0.0                0.0   \n",
       "8  ...                     0.0                     0.0                0.0   \n",
       "9  ...                     0.0                     0.0                0.0   \n",
       "\n",
       "   race_Amer-Indian-Eskimo  race_Asian-Pac-Islander  race_Black  race_Other  \\\n",
       "0                      0.0                      0.0         1.0         0.0   \n",
       "1                      0.0                      0.0         0.0         0.0   \n",
       "2                      0.0                      0.0         0.0         0.0   \n",
       "3                      0.0                      0.0         0.0         0.0   \n",
       "4                      0.0                      0.0         0.0         0.0   \n",
       "5                      0.0                      0.0         0.0         0.0   \n",
       "6                      0.0                      0.0         0.0         0.0   \n",
       "7                      0.0                      0.0         0.0         0.0   \n",
       "8                      0.0                      0.0         0.0         0.0   \n",
       "9                      1.0                      0.0         0.0         0.0   \n",
       "\n",
       "   race_White  sex_Female  sex_Male  \n",
       "0         0.0         0.0       1.0  \n",
       "1         1.0         0.0       1.0  \n",
       "2         1.0         0.0       1.0  \n",
       "3         1.0         1.0       0.0  \n",
       "4         1.0         0.0       1.0  \n",
       "5         1.0         0.0       1.0  \n",
       "6         1.0         0.0       1.0  \n",
       "7         1.0         0.0       1.0  \n",
       "8         1.0         0.0       1.0  \n",
       "9         0.0         0.0       1.0  \n",
       "\n",
       "[10 rows x 60 columns]"
      ]
     },
     "execution_count": 12,
     "metadata": {},
     "output_type": "execute_result"
    }
   ],
   "source": [
    "ohe = OneHotEncoder(handle_unknown='ignore', sparse_output=False)\n",
    "ohe = ohe.fit(cat_data)\n",
    "one_hot_data = pd.DataFrame(ohe.transform(cat_data), index=cat_data.index, columns=ohe.get_feature_names_out())\n",
    "one_hot_data[:10]"
   ]
  },
  {
   "cell_type": "markdown",
   "metadata": {
    "id": "M-df8f5Kngx3"
   },
   "source": [
    "Наконец, разобьем данные на train и test в соотношении 70:30."
   ]
  },
  {
   "cell_type": "code",
   "execution_count": 13,
   "metadata": {
    "id": "bhOsxa7-ntza"
   },
   "outputs": [],
   "source": [
    "from sklearn.model_selection import train_test_split\n",
    "\n",
    "train_data, test_data, train_real_data, test_real_data, \\\n",
    "train_cat_data, test_cat_data, train_one_hot_data, test_one_hot_data, \\\n",
    "y_train, y_test = train_test_split(data, real_data,\n",
    "                                   cat_data, one_hot_data,\n",
    "                                   y, train_size=0.7)"
   ]
  },
  {
   "cell_type": "markdown",
   "metadata": {
    "id": "rSz6Zi14Kuxp"
   },
   "source": [
    "### Задание\n",
    "Проделайте все то же самые операции для scoring_data.\n",
    "* Загрузите данные из файла data_scoring.csv;\n",
    "* Замените \"?\" на `np.nan`;\n",
    "* Выделите числовые и категориальные данные;\n",
    "* Закодируйте категориальные данные с помощью уже созданного `ohe`. Новый объект класса `OneHotEncoding` создавать не нужно. Используйте метод `ohe.transform`."
   ]
  },
  {
   "cell_type": "code",
   "execution_count": 14,
   "metadata": {
    "id": "_jM3gw9TfQ5I"
   },
   "outputs": [
    {
     "name": "stdout",
     "output_type": "stream",
     "text": [
      "zsh:1: command not found: gdown\r\n"
     ]
    }
   ],
   "source": [
    "!gdown 1tguHTZm9-sUwTRzqAEuqLRUzKHqkvVmQ"
   ]
  },
  {
   "cell_type": "code",
   "execution_count": 15,
   "metadata": {
    "id": "qEu_LMMdKuxp"
   },
   "outputs": [],
   "source": [
    "from sklearn.preprocessing import OneHotEncoder\n",
    "scoring_data = pd.read_csv('data_scoring.csv')\n",
    "scoring_data = scoring_data.replace('?', np.nan)\n",
    "scoring_real_data = scoring_data[[\"age\", \"fnlwgt\", \"education-num\", \"capital-gain\", \"capital-loss\", \"hours-per-week\"]]\n",
    "scoring_cat_data = scoring_data[[\"workclass\", \"education\", \"marital-status\", \"occupation\", \"relationship\", \"race\", \"sex\"]]\n",
    "scoring_ohe = OneHotEncoder(handle_unknown='ignore', sparse_output=False)\n",
    "scoring_ohe = scoring_ohe.fit(scoring_cat_data)\n",
    "scoring_one_hot_data = pd.DataFrame(scoring_ohe.transform(scoring_cat_data), index=scoring_cat_data.index, columns=scoring_ohe.get_feature_names_out())"
   ]
  },
  {
   "cell_type": "markdown",
   "metadata": {
    "id": "jEqwTZ56nD5t"
   },
   "source": [
    "## Часть 2. Обучение случайного леса\n",
    "Мы будем использовать модель `RandomForestClassifier` из `sklearn.ensemble`. Вам предстоит подобрать для случайного леса оптимальный параметр глубины. Количество деревьев в этом задании мы будем использовать постоянным и равным 100.\n",
    "\n",
    "Выбор параметра мы будем производить с помощью кросс-валидации на 5 фолдов, используя метод `cross_val_score` из `sklearn.model_selection`. Затем мы обучим окончательную модель на всем `train_data`, а на `test_data` будем считать итоговое качество.\n",
    "\n",
    "Отметим, что для моделей `sklearn` мы не можем по умолчанию использовать категориальные признаки. Поэтому мы будем использовать `train/test_one_hot_data`."
   ]
  },
  {
   "cell_type": "code",
   "execution_count": 16,
   "metadata": {
    "id": "IwA6nOasqked"
   },
   "outputs": [],
   "source": [
    "from sklearn.ensemble import RandomForestClassifier\n",
    "from sklearn.model_selection import cross_val_score"
   ]
  },
  {
   "cell_type": "markdown",
   "metadata": {
    "id": "SD9uwlalNtiV"
   },
   "source": [
    "Создадим полную матрицу объекты-признаки. Используем числовые и one-hot данные."
   ]
  },
  {
   "cell_type": "code",
   "execution_count": 17,
   "metadata": {
    "id": "_fPjJs4SqsM7"
   },
   "outputs": [
    {
     "name": "stdout",
     "output_type": "stream",
     "text": [
      "       age  capital-gain  capital-loss  education-num  education_10th  \\\n",
      "10315   19             0             0             10             0.0   \n",
      "1971    55             0             0              9             0.0   \n",
      "1172    52             0             0             14             0.0   \n",
      "8104    33          3674             0             10             0.0   \n",
      "13803   34             0             0             10             0.0   \n",
      "10723   72             0             0              9             0.0   \n",
      "5221    21             0             0             11             0.0   \n",
      "13540   45             0             0              9             0.0   \n",
      "14445   28             0             0             10             0.0   \n",
      "3682    56             0             0             10             0.0   \n",
      "\n",
      "       education_11th  education_12th  education_1st-4th  education_5th-6th  \\\n",
      "10315             0.0             0.0                0.0                0.0   \n",
      "1971              0.0             0.0                0.0                0.0   \n",
      "1172              0.0             0.0                0.0                0.0   \n",
      "8104              0.0             0.0                0.0                0.0   \n",
      "13803             0.0             0.0                0.0                0.0   \n",
      "10723             0.0             0.0                0.0                0.0   \n",
      "5221              0.0             0.0                0.0                0.0   \n",
      "13540             0.0             0.0                0.0                0.0   \n",
      "14445             0.0             0.0                0.0                0.0   \n",
      "3682              0.0             0.0                0.0                0.0   \n",
      "\n",
      "       education_7th-8th  ...  sex_Male  workclass_Federal-gov  \\\n",
      "10315                0.0  ...       1.0                    0.0   \n",
      "1971                 0.0  ...       1.0                    0.0   \n",
      "1172                 0.0  ...       1.0                    0.0   \n",
      "8104                 0.0  ...       0.0                    0.0   \n",
      "13803                0.0  ...       1.0                    0.0   \n",
      "10723                0.0  ...       0.0                    0.0   \n",
      "5221                 0.0  ...       0.0                    0.0   \n",
      "13540                0.0  ...       1.0                    0.0   \n",
      "14445                0.0  ...       1.0                    0.0   \n",
      "3682                 0.0  ...       0.0                    0.0   \n",
      "\n",
      "       workclass_Local-gov  workclass_Never-worked  workclass_Private  \\\n",
      "10315                  0.0                     0.0                1.0   \n",
      "1971                   0.0                     0.0                1.0   \n",
      "1172                   1.0                     0.0                0.0   \n",
      "8104                   0.0                     0.0                1.0   \n",
      "13803                  0.0                     0.0                1.0   \n",
      "10723                  0.0                     0.0                0.0   \n",
      "5221                   0.0                     0.0                1.0   \n",
      "13540                  0.0                     0.0                0.0   \n",
      "14445                  0.0                     0.0                1.0   \n",
      "3682                   0.0                     0.0                0.0   \n",
      "\n",
      "       workclass_Self-emp-inc  workclass_Self-emp-not-inc  \\\n",
      "10315                     0.0                         0.0   \n",
      "1971                      0.0                         0.0   \n",
      "1172                      0.0                         0.0   \n",
      "8104                      0.0                         0.0   \n",
      "13803                     0.0                         0.0   \n",
      "10723                     0.0                         0.0   \n",
      "5221                      0.0                         0.0   \n",
      "13540                     0.0                         0.0   \n",
      "14445                     0.0                         0.0   \n",
      "3682                      0.0                         1.0   \n",
      "\n",
      "       workclass_State-gov  workclass_Without-pay  workclass_nan  \n",
      "10315                  0.0                    0.0            0.0  \n",
      "1971                   0.0                    0.0            0.0  \n",
      "1172                   0.0                    0.0            0.0  \n",
      "8104                   0.0                    0.0            0.0  \n",
      "13803                  0.0                    0.0            0.0  \n",
      "10723                  0.0                    0.0            1.0  \n",
      "5221                   0.0                    0.0            0.0  \n",
      "13540                  1.0                    0.0            0.0  \n",
      "14445                  0.0                    0.0            0.0  \n",
      "3682                   0.0                    0.0            0.0  \n",
      "\n",
      "[10 rows x 66 columns]\n"
     ]
    }
   ],
   "source": [
    "train_data_for_forest = pd.concat([train_real_data, train_one_hot_data], axis='columns')\n",
    "test_data_for_forest = pd.concat([test_real_data, test_one_hot_data], axis='columns')\n",
    "train_data_for_forest = train_data_for_forest[sorted(train_data_for_forest.columns)]\n",
    "test_data_for_forest = test_data_for_forest[sorted(test_data_for_forest.columns)]\n",
    "print(train_data_for_forest[:10])"
   ]
  },
  {
   "cell_type": "markdown",
   "metadata": {
    "id": "gohwNoCyN0HO"
   },
   "source": [
    "### Задание\n",
    "Выберите оптимальный параметр max_depth от 3 до 19 включительно для модели случаного леса. Используйте кросс-валидацию. Для каждой глубины посчитайте среднее по фолдам значение метрики ROC-AUC и запишите получившиеся данные в массив `rf_metrics`. Используйте 5 фолдов для кросс-валидации.\n",
    "\n",
    "**Совет**. Для ускорения работы функции `cross_val_score` используйте параметр n_jobs=-1."
   ]
  },
  {
   "cell_type": "code",
   "execution_count": 18,
   "metadata": {
    "id": "Qfpk4oS5q8wi"
   },
   "outputs": [],
   "source": [
    "depths = np.arange(3, 20)\n",
    "rf_metrics = []\n",
    "\n",
    "for depth in depths:\n",
    "    scores = cross_val_score(RandomForestClassifier(n_estimators=100, max_depth=depth), train_data_for_forest, y_train, cv=5, n_jobs=-1, scoring=\"roc_auc\")\n",
    "\n",
    "    rf_metrics.append(np.mean(scores))"
   ]
  },
  {
   "cell_type": "markdown",
   "metadata": {
    "id": "WICL-7QwKuxq"
   },
   "source": [
    "Построим график получившейся метрики в зависимости от параметра `depth`."
   ]
  },
  {
   "cell_type": "code",
   "execution_count": 19,
   "metadata": {
    "id": "vEVvBZXVsLyH"
   },
   "outputs": [
    {
     "data": {
      "image/png": "[encoded data removed]",
      "text/plain": [
       "<Figure size 1000x600 with 1 Axes>"
      ]
     },
     "metadata": {},
     "output_type": "display_data"
    }
   ],
   "source": [
    "plt.figure(figsize=(10,6))\n",
    "plt.plot(np.arange(3, 20), rf_metrics)\n",
    "plt.xlabel('depth')\n",
    "plt.ylabel('roc-auc-score')\n",
    "plt.grid()"
   ]
  },
  {
   "cell_type": "markdown",
   "metadata": {
    "id": "sm6R8MoUKuxq"
   },
   "source": [
    "### Задание\n",
    "Выберите оптимальное значение глубины и обучите для этого значения единственную модель `RandomForestClassifier` на всех обучающих данных `train_data_for_forest`. Предскажите вероятность класса 1 на обучающих и тестовых данных. Сохраните их в переменные `train_y_pred_forest` и `test_y_pred_forest`. Используйте метод `predict_proba`."
   ]
  },
  {
   "cell_type": "code",
   "execution_count": 20,
   "metadata": {
    "id": "LNUWEZpXsYB4"
   },
   "outputs": [
    {
     "name": "stdout",
     "output_type": "stream",
     "text": [
      "[6.20074563e-04 3.96973555e-01 8.34000438e-01 ... 5.17183605e-01\n",
      " 1.14080176e-01 2.36676933e-03]\n",
      "[0.86978867 0.19255764 0.20563297 ... 0.0623436  0.15032543 0.00736592]\n"
     ]
    }
   ],
   "source": [
    "best_depth = 14\n",
    "\n",
    "model = RandomForestClassifier(n_estimators=100, max_depth=best_depth)\n",
    "\n",
    "model.fit(train_data_for_forest, y_train)\n",
    "\n",
    "\n",
    "train_y_pred_forest = model.predict_proba(train_data_for_forest)[:, 1]\n",
    "test_y_pred_forest = model.predict_proba(test_data_for_forest)[:, 1]\n",
    "print(train_y_pred_forest)\n",
    "print(test_y_pred_forest)"
   ]
  },
  {
   "cell_type": "code",
   "execution_count": 21,
   "metadata": {
    "id": "uqihRC74tGGJ"
   },
   "outputs": [],
   "source": [
    "from sklearn.metrics import roc_curve, roc_auc_score"
   ]
  },
  {
   "cell_type": "code",
   "execution_count": 22,
   "metadata": {
    "id": "8WsSKFNBKuxr"
   },
   "outputs": [],
   "source": [
    "from sklearn.metrics import roc_auc_score\n",
    "train_auc = roc_auc_score(y_train, train_y_pred_forest)\n",
    "test_auc = roc_auc_score(y_test, test_y_pred_forest)"
   ]
  },
  {
   "cell_type": "markdown",
   "metadata": {
    "id": "n4ZBTwgUKuxr"
   },
   "source": [
    "Проверим, что мы получили достаточно хорошие значения для `test_auc`."
   ]
  },
  {
   "cell_type": "code",
   "execution_count": 23,
   "metadata": {
    "id": "fnJ22KZ_Kuxr"
   },
   "outputs": [],
   "source": [
    "assert test_auc > 0.90"
   ]
  },
  {
   "cell_type": "code",
   "execution_count": 24,
   "metadata": {
    "id": "xzvqf4fItB2i"
   },
   "outputs": [
    {
     "data": {
      "image/png": "[encoded data removed]",
      "text/plain": [
       "<Figure size 1000x600 with 1 Axes>"
      ]
     },
     "metadata": {},
     "output_type": "display_data"
    }
   ],
   "source": [
    "from sklearn import metrics\n",
    "plt.figure(figsize=(10,6))\n",
    "plt.plot(*metrics.roc_curve(y_train, train_y_pred_forest)[:2],\n",
    "         label=f'train auc={train_auc}')\n",
    "plt.plot(*metrics.roc_curve(y_test, test_y_pred_forest)[:2],\n",
    "         label=f'test auc={test_auc}')\n",
    "\n",
    "\n",
    "plt.plot([0,1], [0,1], '--', color='black')\n",
    "plt.legend()\n",
    "plt.grid()"
   ]
  },
  {
   "cell_type": "markdown",
   "metadata": {
    "id": "Olu9UFhYKuxr"
   },
   "source": [
    "### Задание\n",
    "Создайте датасет `scoring_data_for_forest` и предскажите на нем целевую переменную."
   ]
  },
  {
   "cell_type": "code",
   "execution_count": 25,
   "metadata": {
    "id": "CoP8jwU6Kuxr"
   },
   "outputs": [
    {
     "name": "stdout",
     "output_type": "stream",
     "text": [
      "   age  capital-gain  capital-loss  education-num  education_10th  \\\n",
      "0   17             0             0              6             1.0   \n",
      "1   31             0             0             13             0.0   \n",
      "2   61             0             0              9             0.0   \n",
      "3   60             0             0              9             0.0   \n",
      "4   56             0          1980             10             0.0   \n",
      "5   55             0             0              9             0.0   \n",
      "6   25             0             0              9             0.0   \n",
      "7   62             0             0              9             0.0   \n",
      "8   39             0             0             10             0.0   \n",
      "9   44             0             0             10             0.0   \n",
      "\n",
      "   education_11th  education_12th  education_1st-4th  education_5th-6th  \\\n",
      "0             0.0             0.0                0.0                0.0   \n",
      "1             0.0             0.0                0.0                0.0   \n",
      "2             0.0             0.0                0.0                0.0   \n",
      "3             0.0             0.0                0.0                0.0   \n",
      "4             0.0             0.0                0.0                0.0   \n",
      "5             0.0             0.0                0.0                0.0   \n",
      "6             0.0             0.0                0.0                0.0   \n",
      "7             0.0             0.0                0.0                0.0   \n",
      "8             0.0             0.0                0.0                0.0   \n",
      "9             0.0             0.0                0.0                0.0   \n",
      "\n",
      "   education_7th-8th  ...  sex_Male  workclass_Federal-gov  \\\n",
      "0                0.0  ...       0.0                    0.0   \n",
      "1                0.0  ...       1.0                    0.0   \n",
      "2                0.0  ...       1.0                    0.0   \n",
      "3                0.0  ...       1.0                    0.0   \n",
      "4                0.0  ...       0.0                    0.0   \n",
      "5                0.0  ...       1.0                    0.0   \n",
      "6                0.0  ...       1.0                    0.0   \n",
      "7                0.0  ...       1.0                    0.0   \n",
      "8                0.0  ...       1.0                    0.0   \n",
      "9                0.0  ...       1.0                    0.0   \n",
      "\n",
      "   workclass_Local-gov  workclass_Never-worked  workclass_Private  \\\n",
      "0                  0.0                       0                0.0   \n",
      "1                  0.0                       0                1.0   \n",
      "2                  0.0                       0                0.0   \n",
      "3                  1.0                       0                0.0   \n",
      "4                  0.0                       0                1.0   \n",
      "5                  0.0                       0                1.0   \n",
      "6                  0.0                       0                0.0   \n",
      "7                  0.0                       0                1.0   \n",
      "8                  0.0                       0                1.0   \n",
      "9                  0.0                       0                1.0   \n",
      "\n",
      "   workclass_Self-emp-inc  workclass_Self-emp-not-inc  workclass_State-gov  \\\n",
      "0                     0.0                         0.0                  0.0   \n",
      "1                     0.0                         0.0                  0.0   \n",
      "2                     0.0                         1.0                  0.0   \n",
      "3                     0.0                         0.0                  0.0   \n",
      "4                     0.0                         0.0                  0.0   \n",
      "5                     0.0                         0.0                  0.0   \n",
      "6                     0.0                         1.0                  0.0   \n",
      "7                     0.0                         0.0                  0.0   \n",
      "8                     0.0                         0.0                  0.0   \n",
      "9                     0.0                         0.0                  0.0   \n",
      "\n",
      "   workclass_Without-pay  workclass_nan  \n",
      "0                      0            1.0  \n",
      "1                      0            0.0  \n",
      "2                      0            0.0  \n",
      "3                      0            0.0  \n",
      "4                      0            0.0  \n",
      "5                      0            0.0  \n",
      "6                      0            0.0  \n",
      "7                      0            0.0  \n",
      "8                      0            0.0  \n",
      "9                      0            0.0  \n",
      "\n",
      "[10 rows x 66 columns]\n"
     ]
    },
    {
     "data": {
      "text/plain": [
       "array([3.61879812e-04, 1.16924165e-01, 2.96521493e-01, ...,\n",
       "       3.87141402e-02, 1.92912929e-01, 8.52421822e-01])"
      ]
     },
     "execution_count": 25,
     "metadata": {},
     "output_type": "execute_result"
    }
   ],
   "source": [
    "import pandas as pd\n",
    "\n",
    "import sys\n",
    "sys.setrecursionlimit(100000)\n",
    "scoring_data_for_forest = pd.read_csv('data_scoring.csv')\n",
    "scoring_data_for_forest = scoring_data_for_forest.replace('?', np.nan)\n",
    "scoring_real_data = scoring_data_for_forest[real_columns]\n",
    "scoring_cat_data = scoring_data_for_forest[cat_columns]\n",
    "scoring_ohe = OneHotEncoder(handle_unknown='ignore', sparse_output=False)\n",
    "scoring_ohe = scoring_ohe.fit(scoring_cat_data)\n",
    "scoring_one_hot_data = pd.DataFrame(scoring_ohe.transform(scoring_cat_data), index=scoring_cat_data.index, columns=scoring_ohe.get_feature_names_out())\n",
    "scoring_data_for_forest = pd.concat([scoring_real_data, scoring_one_hot_data], axis='columns')\n",
    "scoring_data_for_forest.loc[:, \"marital-status_Married-AF-spouse\"] = 0\n",
    "scoring_data_for_forest.loc[:, \"occupation_Armed-Forces\"] = 0\n",
    "scoring_data_for_forest.loc[:, \"workclass_Never-worked\"] = 0\n",
    "scoring_data_for_forest.loc[:, \"workclass_Without-pay\"] = 0\n",
    "scoring_data_for_forest = scoring_data_for_forest[sorted(scoring_data_for_forest.columns)]\n",
    "print(scoring_data_for_forest[:10])\n",
    "scoring_y_pred_forest = model.predict_proba(scoring_data_for_forest)[:, 1]\n",
    "scoring_y_pred_forest"
   ]
  },
  {
   "cell_type": "markdown",
   "metadata": {
    "id": "r5XSMDTifr7T"
   },
   "source": [
    "Сохраним scoring_y_pred_forest. Отправьте их на Stepik, полностью скопировав содержимое файла и вставив их вместо \"<ВАШ КОД. Вставьте сюда list вероятностей, предсказанных случайным лесом на data_scoring.csv>\" так, чтобы переменная answer содержала список вероятностей в нужном порядке."
   ]
  },
  {
   "cell_type": "code",
   "execution_count": 26,
   "metadata": {
    "id": "h8mqhKf7dVyN"
   },
   "outputs": [],
   "source": [
    "with open('scoring_y_pred_forest.txt', \"w\") as f:\n",
    "    f.write(', '.join([str(item) for item in scoring_y_pred_forest]))"
   ]
  },
  {
   "cell_type": "markdown",
   "metadata": {
    "id": "-8dD_JxQfXM5"
   },
   "source": [
    "Для посылки на kaggle обычно используют функцию `.to_csv`, как ниже, но нам этот код не понадобится:"
   ]
  },
  {
   "cell_type": "code",
   "execution_count": 27,
   "metadata": {
    "id": "5P7OGdIEfr7Z"
   },
   "outputs": [],
   "source": [
    "pd.Series(scoring_y_pred_forest).to_csv('scoring_y_pred_forest.csv', header=None, index=None)"
   ]
  },
  {
   "cell_type": "markdown",
   "metadata": {
    "id": "_RqoeqkJuR2g"
   },
   "source": [
    "## Часть 3. Обучение градиентного бустинга\n",
    "Мы будем использовать библиотеку Catboost. Catboost --- это библиотека для градиентного бустинга от компании Яндекс. Она, как следует из названия, отличается удобной работой с данными вообще и категориальными признаками с частности. Про Catboost можно прочитать в [официальной документации](https://catboost.ai/en/docs/concepts/python-usages-examples) и в статье на [Хабре](https://habr.com/ru/post/599827/).\n",
    "\n",
    "<img src=\"https://avatars.mds.yandex.net/i?id=53d991f7cac35c76bf747793019c39fb-3751806-images-thumbs&n=13&exp=1\" style=\"height:400px; width:800px\">\n",
    "\n",
    "Обратите внимание на следующие моменты:\n",
    "* В Catboost можно сразу передавать категориальные признаки без предварительного кодирования.\n",
    "* В Catboost для категориальных признаков необходимо заполнять пропущенные значения. Мы будем заполнять их значениями `'unknown'`.\n",
    "* Для работы с данными в Catboost [есть специальный класс](https://catboost.ai/en/docs/concepts/python-reference_pool), который называется `Pool`. Прочитать о нем можно также в [примерах использования](https://catboost.ai/en/docs/concepts/python-usages-examples).\n",
    "* Для кросс-валидации в Catboost [есть специальный класс](https://catboost.ai/en/docs/concepts/python-reference_cv) `cv`. Об использовании можно прочитать в статье на [Хабре](https://habr.com/ru/post/599827/).\n",
    "* Собственно, основная модель для классификации в Catboost --- это `CatBoostClassifier`.\n",
    "\n",
    "Для установки `catboost` вы можете выполнить следующую команду."
   ]
  },
  {
   "cell_type": "code",
   "execution_count": 28,
   "metadata": {
    "id": "qs35kLJPKuxs"
   },
   "outputs": [
    {
     "name": "stdout",
     "output_type": "stream",
     "text": [
      "Requirement already satisfied: catboost in /Users/kseniashk/anaconda3/lib/python3.10/site-packages (1.2)\n",
      "Requirement already satisfied: scipy in /Users/kseniashk/anaconda3/lib/python3.10/site-packages (from catboost) (1.10.0)\n",
      "Requirement already satisfied: plotly in /Users/kseniashk/anaconda3/lib/python3.10/site-packages (from catboost) (5.9.0)\n",
      "Requirement already satisfied: pandas>=0.24 in /Users/kseniashk/anaconda3/lib/python3.10/site-packages (from catboost) (1.5.3)\n",
      "Requirement already satisfied: six in /Users/kseniashk/anaconda3/lib/python3.10/site-packages (from catboost) (1.16.0)\n",
      "Requirement already satisfied: graphviz in /Users/kseniashk/anaconda3/lib/python3.10/site-packages (from catboost) (0.20.1)\n",
      "Requirement already satisfied: numpy>=1.16.0 in /Users/kseniashk/anaconda3/lib/python3.10/site-packages (from catboost) (1.23.5)\n",
      "Requirement already satisfied: matplotlib in /Users/kseniashk/anaconda3/lib/python3.10/site-packages (from catboost) (3.7.0)\n",
      "Requirement already satisfied: python-dateutil>=2.8.1 in /Users/kseniashk/anaconda3/lib/python3.10/site-packages (from pandas>=0.24->catboost) (2.8.2)\n",
      "Requirement already satisfied: pytz>=2020.1 in /Users/kseniashk/anaconda3/lib/python3.10/site-packages (from pandas>=0.24->catboost) (2022.7)\n",
      "Requirement already satisfied: fonttools>=4.22.0 in /Users/kseniashk/anaconda3/lib/python3.10/site-packages (from matplotlib->catboost) (4.25.0)\n",
      "Requirement already satisfied: pillow>=6.2.0 in /Users/kseniashk/anaconda3/lib/python3.10/site-packages (from matplotlib->catboost) (9.4.0)\n",
      "Requirement already satisfied: packaging>=20.0 in /Users/kseniashk/anaconda3/lib/python3.10/site-packages (from matplotlib->catboost) (22.0)\n",
      "Requirement already satisfied: pyparsing>=2.3.1 in /Users/kseniashk/anaconda3/lib/python3.10/site-packages (from matplotlib->catboost) (3.0.9)\n",
      "Requirement already satisfied: contourpy>=1.0.1 in /Users/kseniashk/anaconda3/lib/python3.10/site-packages (from matplotlib->catboost) (1.0.5)\n",
      "Requirement already satisfied: cycler>=0.10 in /Users/kseniashk/anaconda3/lib/python3.10/site-packages (from matplotlib->catboost) (0.11.0)\n",
      "Requirement already satisfied: kiwisolver>=1.0.1 in /Users/kseniashk/anaconda3/lib/python3.10/site-packages (from matplotlib->catboost) (1.4.4)\n",
      "Requirement already satisfied: tenacity>=6.2.0 in /Users/kseniashk/anaconda3/lib/python3.10/site-packages (from plotly->catboost) (8.0.1)\n"
     ]
    }
   ],
   "source": [
    "!pip install catboost"
   ]
  },
  {
   "cell_type": "markdown",
   "metadata": {
    "id": "zqEuErm7Kuxs"
   },
   "source": [
    "Импортируем все необходимые классы."
   ]
  },
  {
   "cell_type": "code",
   "execution_count": 29,
   "metadata": {
    "id": "BrYDQ_tNuWmg"
   },
   "outputs": [],
   "source": [
    "from catboost import CatBoostClassifier, Pool, cv"
   ]
  },
  {
   "cell_type": "markdown",
   "metadata": {
    "id": "dPOVS9IuKuxs"
   },
   "source": [
    "### Задание\n",
    "Заполните пропуски в данных `train_cat_data` и `test_cat_data` значением `'unknown'`. Используйте метод `fillna`."
   ]
  },
  {
   "cell_type": "code",
   "execution_count": 30,
   "metadata": {
    "id": "CfdxlQxDKuxt"
   },
   "outputs": [],
   "source": [
    "train_cat_data = train_cat_data.fillna('unknown')\n",
    "test_cat_data = test_cat_data.fillna('unknown')"
   ]
  },
  {
   "cell_type": "markdown",
   "metadata": {
    "id": "9oWzO7hfKuxt"
   },
   "source": [
    "### Задание\n",
    "Создайте новые наборы данных для train и test, состоящие из `[train/test]_real_data` и `[train/test]_cat_data`. Используйте `pd.concat`. Затем создайте обучающий и тестовый `Pool` (за вас мы выделили номера категориальных признаков)."
   ]
  },
  {
   "cell_type": "code",
   "execution_count": 32,
   "metadata": {
    "id": "nVnooXSBvET_"
   },
   "outputs": [
    {
     "name": "stdout",
     "output_type": "stream",
     "text": [
      "       age  fnlwgt  education-num  capital-gain  capital-loss  hours-per-week  \\\n",
      "10315   19  184710             10             0             0              30   \n",
      "1971    55  130957              9             0             0              45   \n",
      "1172    52  205767             14             0             0              40   \n",
      "8104    33   40681             10          3674             0              16   \n",
      "13803   34  113838             10             0             0              45   \n",
      "10723   72  166253              9             0             0               2   \n",
      "5221    21   34816             11             0             0              12   \n",
      "13540   45  264052              9             0             0              40   \n",
      "14445   28   25955             10             0             0              40   \n",
      "3682    56   78090             10             0             0              48   \n",
      "\n",
      "              workclass     education      marital-status      occupation  \\\n",
      "10315           Private  Some-college       Never-married    Tech-support   \n",
      "1971            Private       HS-grad  Married-civ-spouse    Craft-repair   \n",
      "1172          Local-gov       Masters  Married-civ-spouse  Prof-specialty   \n",
      "8104            Private  Some-college       Never-married  Prof-specialty   \n",
      "13803           Private  Some-college  Married-civ-spouse    Craft-repair   \n",
      "10723           unknown       HS-grad  Married-civ-spouse         unknown   \n",
      "5221            Private     Assoc-voc  Married-civ-spouse    Adm-clerical   \n",
      "13540         State-gov       HS-grad  Married-civ-spouse    Craft-repair   \n",
      "14445           Private  Some-college       Never-married    Craft-repair   \n",
      "3682   Self-emp-not-inc  Some-college            Divorced           Sales   \n",
      "\n",
      "        relationship                race     sex  \n",
      "10315      Own-child               White    Male  \n",
      "1971         Husband               White    Male  \n",
      "1172         Husband               Black    Male  \n",
      "8104   Not-in-family               White  Female  \n",
      "13803        Husband               White    Male  \n",
      "10723           Wife               White  Female  \n",
      "5221            Wife               White  Female  \n",
      "13540        Husband               White    Male  \n",
      "14445      Own-child  Amer-Indian-Eskimo    Male  \n",
      "3682       Unmarried               White  Female  \n",
      "[ 6  7  8  9 10 11 12]\n"
     ]
    }
   ],
   "source": [
    "train_data_for_boosting = pd.concat([train_real_data, train_cat_data], axis='columns')\n",
    "test_data_for_boosting = pd.concat([test_real_data, test_cat_data], axis='columns')\n",
    "print(train_data_for_boosting[:10])\n",
    "\n",
    "cat_features = np.arange(train_cat_data.shape[1]) + train_real_data.shape[1]\n",
    "print(cat_features[:10])\n",
    "\n",
    "train_dataset = Pool(data=train_data_for_boosting,\n",
    "                     label=y_train,\n",
    "                     cat_features=cat_features)\n",
    "\n",
    "test_dataset = Pool(data=test_data_for_boosting,\n",
    "                     label=y_test,\n",
    "                     cat_features=cat_features)"
   ]
  },
  {
   "cell_type": "markdown",
   "metadata": {
    "id": "RnFK5vH-Kuxt"
   },
   "source": [
    "Для каждого значения depth от 3 до 16 включительно используйте функцию `cv` для подсчета результатов кросс-валидации. Затем посчитайте среднее по фолдам значение метрики ROC-AUC с последней итерации и запишите получившиеся данные в массив `boosting_metrics`.\n",
    "\n",
    "Обратите внимание, что функция `cv` должна принимать следующие параметры:\n",
    "* `pool` (используйте `train_dataset`)\n",
    "* `params` (используйте параметры, указанные в коде)\n",
    "* `fold_count` (положите равным 5).\n",
    "\n",
    "Функция cv возвращает pd.DataFrame с метриками обучения. Вам понадобится колонка `'test-AUC-mean'` и последняя строчка. Обратите внимание, что обучение занимает значительное время! Сначала можете попробовать выполнить этот код для небольшого массива `depths`, чтобы было легче дебагать."
   ]
  },
  {
   "cell_type": "code",
   "execution_count": 31,
   "metadata": {
    "id": "MwGJepyuxOmc",
    "scrolled": true
   },
   "outputs": [
    {
     "name": "stdout",
     "output_type": "stream",
     "text": [
      "Training on fold [0/5]\n",
      "\n",
      "bestTest = 0.3256521331\n",
      "bestIteration = 99\n",
      "\n",
      "Training on fold [1/5]\n",
      "\n",
      "bestTest = 0.3331749516\n",
      "bestIteration = 99\n",
      "\n",
      "Training on fold [2/5]\n",
      "\n",
      "bestTest = 0.3367861476\n",
      "bestIteration = 99\n",
      "\n",
      "Training on fold [3/5]\n",
      "\n",
      "bestTest = 0.3243598816\n",
      "bestIteration = 99\n",
      "\n",
      "Training on fold [4/5]\n",
      "\n",
      "bestTest = 0.3205940158\n",
      "bestIteration = 99\n",
      "\n",
      "0.9087258692531917\n",
      "Training on fold [0/5]\n",
      "\n",
      "bestTest = 0.3182477301\n",
      "bestIteration = 99\n",
      "\n",
      "Training on fold [1/5]\n",
      "\n",
      "bestTest = 0.3272034493\n",
      "bestIteration = 99\n",
      "\n",
      "Training on fold [2/5]\n",
      "\n",
      "bestTest = 0.3310079645\n",
      "bestIteration = 99\n",
      "\n",
      "Training on fold [3/5]\n",
      "\n",
      "bestTest = 0.317358113\n",
      "bestIteration = 99\n",
      "\n",
      "Training on fold [4/5]\n",
      "\n",
      "bestTest = 0.3145624175\n",
      "bestIteration = 99\n",
      "\n",
      "0.9108989244754353\n",
      "Training on fold [0/5]\n",
      "\n",
      "bestTest = 0.312932254\n",
      "bestIteration = 99\n",
      "\n",
      "Training on fold [1/5]\n",
      "\n",
      "bestTest = 0.3227141513\n",
      "bestIteration = 99\n",
      "\n",
      "Training on fold [2/5]\n",
      "\n",
      "bestTest = 0.3258959206\n",
      "bestIteration = 99\n",
      "\n",
      "Training on fold [3/5]\n",
      "\n",
      "bestTest = 0.3136700149\n",
      "bestIteration = 99\n",
      "\n",
      "Training on fold [4/5]\n",
      "\n",
      "bestTest = 0.3100022623\n",
      "bestIteration = 99\n",
      "\n",
      "0.91299952208739\n",
      "Training on fold [0/5]\n",
      "\n",
      "bestTest = 0.3077003992\n",
      "bestIteration = 99\n",
      "\n",
      "Training on fold [1/5]\n",
      "\n",
      "bestTest = 0.318760075\n",
      "bestIteration = 99\n",
      "\n",
      "Training on fold [2/5]\n",
      "\n",
      "bestTest = 0.323087546\n",
      "bestIteration = 99\n",
      "\n",
      "Training on fold [3/5]\n",
      "\n",
      "bestTest = 0.3102469673\n",
      "bestIteration = 99\n",
      "\n",
      "Training on fold [4/5]\n",
      "\n",
      "bestTest = 0.3078380858\n",
      "bestIteration = 99\n",
      "\n",
      "0.9145237714417862\n",
      "Training on fold [0/5]\n",
      "\n",
      "bestTest = 0.3060783497\n",
      "bestIteration = 99\n",
      "\n",
      "Training on fold [1/5]\n",
      "\n",
      "bestTest = 0.3180753743\n",
      "bestIteration = 99\n",
      "\n",
      "Training on fold [2/5]\n",
      "\n",
      "bestTest = 0.3207241244\n",
      "bestIteration = 99\n",
      "\n",
      "Training on fold [3/5]\n",
      "\n",
      "bestTest = 0.308011539\n",
      "bestIteration = 99\n",
      "\n",
      "Training on fold [4/5]\n",
      "\n",
      "bestTest = 0.306100157\n",
      "bestIteration = 99\n",
      "\n",
      "0.9153805125221833\n",
      "Training on fold [0/5]\n",
      "\n",
      "bestTest = 0.3038287038\n",
      "bestIteration = 99\n",
      "\n",
      "Training on fold [1/5]\n",
      "\n",
      "bestTest = 0.3165603997\n",
      "bestIteration = 99\n",
      "\n",
      "Training on fold [2/5]\n",
      "\n",
      "bestTest = 0.3204575608\n",
      "bestIteration = 99\n",
      "\n",
      "Training on fold [3/5]\n",
      "\n",
      "bestTest = 0.3078111554\n",
      "bestIteration = 99\n",
      "\n",
      "Training on fold [4/5]\n",
      "\n",
      "bestTest = 0.3041267143\n",
      "bestIteration = 99\n",
      "\n",
      "0.9157995235676296\n",
      "Training on fold [0/5]\n",
      "\n",
      "bestTest = 0.3048276753\n",
      "bestIteration = 99\n",
      "\n",
      "Training on fold [1/5]\n",
      "\n",
      "bestTest = 0.3154160654\n",
      "bestIteration = 99\n",
      "\n",
      "Training on fold [2/5]\n",
      "\n",
      "bestTest = 0.3188930353\n",
      "bestIteration = 99\n",
      "\n",
      "Training on fold [3/5]\n",
      "\n",
      "bestTest = 0.3065630869\n",
      "bestIteration = 99\n",
      "\n",
      "Training on fold [4/5]\n",
      "\n",
      "bestTest = 0.3066937247\n",
      "bestIteration = 99\n",
      "\n",
      "0.9158138289091372\n",
      "Training on fold [0/5]\n",
      "\n",
      "bestTest = 0.3038651862\n",
      "bestIteration = 99\n",
      "\n",
      "Training on fold [1/5]\n",
      "\n",
      "bestTest = 0.3151117351\n",
      "bestIteration = 99\n",
      "\n",
      "Training on fold [2/5]\n",
      "\n",
      "bestTest = 0.3196174482\n",
      "bestIteration = 99\n",
      "\n",
      "Training on fold [3/5]\n",
      "\n",
      "bestTest = 0.3053197678\n",
      "bestIteration = 99\n",
      "\n",
      "Training on fold [4/5]\n",
      "\n",
      "bestTest = 0.3045173466\n",
      "bestIteration = 99\n",
      "\n",
      "0.9157743342557028\n",
      "Training on fold [0/5]\n",
      "\n",
      "bestTest = 0.3052624498\n",
      "bestIteration = 99\n",
      "\n",
      "Training on fold [1/5]\n",
      "\n",
      "bestTest = 0.3133091985\n",
      "bestIteration = 99\n",
      "\n",
      "Training on fold [2/5]\n",
      "\n",
      "bestTest = 0.3195429104\n",
      "bestIteration = 99\n",
      "\n",
      "Training on fold [3/5]\n",
      "\n",
      "bestTest = 0.3049299518\n",
      "bestIteration = 99\n",
      "\n",
      "Training on fold [4/5]\n",
      "\n",
      "bestTest = 0.3038998161\n",
      "bestIteration = 98\n",
      "\n",
      "0.9157930365170813\n",
      "Training on fold [0/5]\n",
      "\n",
      "bestTest = 0.3043334761\n",
      "bestIteration = 98\n",
      "\n",
      "Training on fold [1/5]\n",
      "\n",
      "bestTest = 0.3135912642\n",
      "bestIteration = 99\n",
      "\n",
      "Training on fold [2/5]\n",
      "\n",
      "bestTest = 0.3236037607\n",
      "bestIteration = 92\n",
      "\n",
      "Training on fold [3/5]\n",
      "\n",
      "bestTest = 0.3063267187\n",
      "bestIteration = 97\n",
      "\n",
      "Training on fold [4/5]\n",
      "\n",
      "bestTest = 0.3054453932\n",
      "bestIteration = 99\n",
      "\n",
      "0.9150433157917899\n",
      "Training on fold [0/5]\n",
      "\n",
      "bestTest = 0.3027165695\n",
      "bestIteration = 99\n",
      "\n",
      "Training on fold [1/5]\n",
      "\n",
      "bestTest = 0.3137402222\n",
      "bestIteration = 99\n",
      "\n",
      "Training on fold [2/5]\n",
      "\n",
      "bestTest = 0.3227671085\n",
      "bestIteration = 99\n",
      "\n",
      "Training on fold [3/5]\n",
      "\n",
      "bestTest = 0.304912831\n",
      "bestIteration = 98\n",
      "\n",
      "Training on fold [4/5]\n",
      "\n",
      "bestTest = 0.3079699422\n",
      "bestIteration = 99\n",
      "\n",
      "0.9153693354748059\n",
      "Training on fold [0/5]\n",
      "\n",
      "bestTest = 0.3053303054\n",
      "bestIteration = 99\n",
      "\n",
      "Training on fold [1/5]\n",
      "\n",
      "bestTest = 0.3167802462\n",
      "bestIteration = 99\n",
      "\n",
      "Training on fold [2/5]\n",
      "\n",
      "bestTest = 0.3219411427\n",
      "bestIteration = 98\n",
      "\n",
      "Training on fold [3/5]\n",
      "\n",
      "bestTest = 0.3064698428\n",
      "bestIteration = 99\n",
      "\n",
      "Training on fold [4/5]\n",
      "\n",
      "bestTest = 0.3074516806\n",
      "bestIteration = 98\n",
      "\n",
      "0.9143650356017405\n",
      "Training on fold [0/5]\n",
      "\n",
      "bestTest = 0.3076980643\n",
      "bestIteration = 99\n",
      "\n",
      "Training on fold [1/5]\n",
      "\n",
      "bestTest = 0.3166434341\n",
      "bestIteration = 99\n",
      "\n",
      "Training on fold [2/5]\n",
      "\n",
      "bestTest = 0.3236283677\n",
      "bestIteration = 99\n",
      "\n",
      "Training on fold [3/5]\n",
      "\n",
      "bestTest = 0.3109706122\n",
      "bestIteration = 99\n",
      "\n",
      "Training on fold [4/5]\n",
      "\n",
      "bestTest = 0.3128654682\n",
      "bestIteration = 96\n",
      "\n",
      "0.912544579033898\n",
      "Training on fold [0/5]\n",
      "\n",
      "bestTest = 0.3099411589\n",
      "bestIteration = 99\n",
      "\n",
      "Training on fold [1/5]\n",
      "\n",
      "bestTest = 0.3199875971\n",
      "bestIteration = 99\n",
      "\n",
      "Training on fold [2/5]\n",
      "\n",
      "bestTest = 0.3264697257\n",
      "bestIteration = 97\n",
      "\n",
      "Training on fold [3/5]\n",
      "\n",
      "bestTest = 0.3087050666\n",
      "bestIteration = 99\n",
      "\n",
      "Training on fold [4/5]\n",
      "\n",
      "bestTest = 0.3108377557\n",
      "bestIteration = 99\n",
      "\n",
      "0.9123769965448651\n"
     ]
    }
   ],
   "source": [
    "depths = np.arange(3, 17)\n",
    "boosting_metrics = []\n",
    "\n",
    "for depth in depths:\n",
    "    params = {\"iterations\": 100,\n",
    "              \"depth\": depth,\n",
    "              \"loss_function\": \"Logloss\",\n",
    "              \"custom_loss\": \"AUC\",\n",
    "              \"verbose\": False}\n",
    "\n",
    "    scores = cv(train_dataset,\n",
    "            params,\n",
    "            fold_count=5)\n",
    "    print(scores.iloc[-1][5])\n",
    "    boosting_metrics.append(scores.iloc[-1][5])"
   ]
  },
  {
   "cell_type": "markdown",
   "metadata": {
    "id": "-4zJBJmvKuxt"
   },
   "source": [
    "Построим график получившейся метрики в зависимости от параметра `depth`. Сравним его с тем же графиком для метрик случайного леса."
   ]
  },
  {
   "cell_type": "code",
   "execution_count": 32,
   "metadata": {
    "id": "IX1YIHmFvPH0"
   },
   "outputs": [
    {
     "data": {
      "text/plain": [
       "<matplotlib.legend.Legend at 0x13ae6ef20>"
      ]
     },
     "execution_count": 32,
     "metadata": {},
     "output_type": "execute_result"
    },
    {
     "data": {
      "image/png": "[encoded data removed]",
      "text/plain": [
       "<Figure size 1000x600 with 1 Axes>"
      ]
     },
     "metadata": {},
     "output_type": "display_data"
    }
   ],
   "source": [
    "plt.figure(figsize=(10,6))\n",
    "plt.plot(np.arange(3, 20), rf_metrics, label='Random Forest AUC')\n",
    "plt.plot(np.arange(3, 17), boosting_metrics, label='Catboost AUC')\n",
    "plt.xlabel('depth')\n",
    "plt.ylabel('roc-auc-score')\n",
    "plt.grid()\n",
    "plt.legend()"
   ]
  },
  {
   "cell_type": "markdown",
   "metadata": {
    "id": "bYAZAjlgKuxv"
   },
   "source": [
    "Ответье на следующие вопросы:\n",
    "* Для какой модели общие результаты получились лучше? Если лучше результаты получились у бэггинга, как вы думаете, получится ли у бустинга отыграться на полной выборке и при большем количестве деревьев?\n",
    "* Какова получилась оптимальная глубина для бустинга?\n",
    "* Как она отличается от оптимальной глубины для бэггинга?"
   ]
  },
  {
   "cell_type": "markdown",
   "metadata": {
    "id": "0slj4Xf-Kuxv"
   },
   "source": [
    "### Задание\n",
    "Мы нашли оптмальную глубину. Обучите для этого значения глубины один `CatBoostClassifier` со следующими параметрами:\n",
    "* `iterations=500` (именно 500, потому что качества с сотней деревьев может не хватить!)\n",
    "* `depth =` глубина, которую вы нашли\n",
    "* `loss_function='Logloss'`\n",
    "* `verbose=False` (чтобы не было лишнего вывода).\n",
    "\n",
    "Обучение производится с помощью метода `fit`, который принимает единственный аргумент --- `Pool` с данными. В данном случае используйте `train_dataset`.\n",
    "\n",
    "Предскажите значения на `train_dataset` и `test_dataset`. Это делается методом `predict_proba` (устроен так же, как и в `sklearn`)."
   ]
  },
  {
   "cell_type": "code",
   "execution_count": 33,
   "metadata": {
    "id": "-2ts0N0Pv6Qj"
   },
   "outputs": [],
   "source": [
    "best_depth = 10\n",
    "\n",
    "model = CatBoostClassifier(iterations = 500, depth = best_depth, loss_function='Logloss', verbose=False)\n",
    "\n",
    "model.fit(train_dataset)\n",
    "\n",
    "\n",
    "train_y_pred_boosting = model.predict_proba(train_dataset)[:, 1]\n",
    "test_y_pred_boosting = model.predict_proba(test_dataset)[:, 1]"
   ]
  },
  {
   "cell_type": "markdown",
   "metadata": {
    "id": "cJNQm4N_Kuxw"
   },
   "source": [
    "### Задание\n",
    "Вычислите ROC-AUC на обучающем и тестовом множестве."
   ]
  },
  {
   "cell_type": "code",
   "execution_count": 34,
   "metadata": {
    "id": "NwJ0z3n-Kuxw"
   },
   "outputs": [],
   "source": [
    "train_auc = roc_auc_score(y_train, train_y_pred_boosting)\n",
    "test_auc = roc_auc_score(y_test, test_y_pred_boosting)"
   ]
  },
  {
   "cell_type": "markdown",
   "metadata": {
    "id": "gaF0m2MdKuxw"
   },
   "source": [
    "Проверим, что мы получили достаточно хорошие значения для `test_auc`."
   ]
  },
  {
   "cell_type": "code",
   "execution_count": 35,
   "metadata": {
    "id": "Ru1G2hJOKuxw"
   },
   "outputs": [],
   "source": [
    "assert test_auc > 0.915"
   ]
  },
  {
   "cell_type": "markdown",
   "metadata": {
    "id": "51GQFZ30Kuxw"
   },
   "source": [
    "Построим ROC-кривые для получившейся модели."
   ]
  },
  {
   "cell_type": "code",
   "execution_count": 36,
   "metadata": {
    "id": "XMEBrLhzwyaA"
   },
   "outputs": [
    {
     "data": {
      "image/png": "[encoded data removed]",
      "text/plain": [
       "<Figure size 1000x600 with 1 Axes>"
      ]
     },
     "metadata": {},
     "output_type": "display_data"
    }
   ],
   "source": [
    "plt.figure(figsize=(10,6))\n",
    "plt.plot(*roc_curve(y_train, train_y_pred_boosting)[:2],\n",
    "         label=f'train auc={train_auc}')\n",
    "plt.plot(*roc_curve(y_test, test_y_pred_boosting)[:2],\n",
    "         label=f'test auc={test_auc}')\n",
    "\n",
    "plt.plot([0,1], [0,1], '--', color='black')\n",
    "\n",
    "plt.legend()\n",
    "plt.grid()"
   ]
  },
  {
   "cell_type": "markdown",
   "metadata": {
    "id": "QGsllxMCKuxw"
   },
   "source": [
    "### Задание\n",
    "Примените построенную модель к данным `scoring_data`. Для этого повторите все шаги, которые вы делали с тестовыми данными:\n",
    "* Заполнение пропущенных значений\n",
    "* Конкатенация числовых и категориальных данных\n",
    "* Создание `scoring_dataset` (здесь не нужно передавать аргумент `label`, так как мы их не знаем)\n",
    "* Предсказание вероятностей 1 класса"
   ]
  },
  {
   "cell_type": "code",
   "execution_count": 37,
   "metadata": {
    "id": "cyTsaF1EKuxx"
   },
   "outputs": [],
   "source": [
    "scoring_cat_data = scoring_cat_data.fillna('unknown')\n",
    "scoring_data_for_boosting = pd.concat([scoring_real_data, scoring_cat_data], axis='columns')\n",
    "scoring_dataset = Pool(data=scoring_data_for_boosting,\n",
    "                       label = None,\n",
    "                       cat_features=cat_features)\n",
    "scoring_y_pred_boosting = model.predict_proba(scoring_dataset)[:, 1]"
   ]
  },
  {
   "cell_type": "markdown",
   "metadata": {
    "id": "E4JwH8r7Kuxx"
   },
   "source": [
    "Сохраним предсказанные значения. Отправьте их на Stepik."
   ]
  },
  {
   "cell_type": "code",
   "execution_count": 38,
   "metadata": {
    "id": "lfW8H_CsKuxx"
   },
   "outputs": [],
   "source": [
    "with open('scoring_y_pred_boosting.txt', \"w\") as f:\n",
    "    f.write(', '.join([str(item) for item in scoring_y_pred_boosting]))"
   ]
  }
 ],
 "metadata": {
  "colab": {
   "provenance": []
  },
  "kernelspec": {
   "display_name": "Python 3 (ipykernel)",
   "language": "python",
   "name": "python3"
  },
  "language_info": {
   "codemirror_mode": {
    "name": "ipython",
    "version": 3
   },
   "file_extension": ".py",
   "mimetype": "text/x-python",
   "name": "python",
   "nbconvert_exporter": "python",
   "pygments_lexer": "ipython3",
   "version": "3.10.12"
  }
 },
 "nbformat": 4,
 "nbformat_minor": 1
}
