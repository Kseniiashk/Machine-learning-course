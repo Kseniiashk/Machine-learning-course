{
 "cells": [
  {
   "cell_type": "markdown",
   "metadata": {
    "id": "Km42c14entlf"
   },
   "source": [
    "# Домашнее задание. Линейная регрессия\n",
    "В этом домашнем задании вам предстоит написать свой класс линейной регрессии и протестировать его для решения задачи регрессии.\n",
    "\n",
    "Работать мы будем с тем же датасетом пингвинов, что и на семинаре. Ссылка на скачивание датасета: [датасет](https://drive.google.com/file/d/1IxN3dR1D6W_hUI656ghr2T3HcolgLsMF/view?usp=share_link)"
   ]
  },
  {
   "cell_type": "markdown",
   "metadata": {
    "id": "Dk_sNjY0n0dw"
   },
   "source": [
    "![picture](https://imgur.com/orZWHly.png)"
   ]
  },
  {
   "cell_type": "markdown",
   "metadata": {
    "id": "KZcvMfgwntlh"
   },
   "source": [
    "## Импорт библиотек и загрузка данных"
   ]
  },
  {
   "cell_type": "markdown",
   "metadata": {
    "id": "K5jurU4Mntli"
   },
   "source": [
    "Импортируем нужные библиотеки:"
   ]
  },
  {
   "cell_type": "code",
   "execution_count": 531,
   "metadata": {
    "id": "8a2gtsXOntli"
   },
   "outputs": [],
   "source": [
    "import numpy as np\n",
    "import pandas as pd\n",
    "import matplotlib.pyplot as plt"
   ]
  },
  {
   "cell_type": "markdown",
   "metadata": {
    "id": "w6oB-SsVntlj"
   },
   "source": [
    "Загрузим датасет (так же, как мы это делали на семинаре):"
   ]
  },
  {
   "cell_type": "code",
   "execution_count": 532,
   "metadata": {
    "id": "F_GhFH9Kntlk"
   },
   "outputs": [
    {
     "data": {
      "text/html": [
       "<div>\n",
       "<style scoped>\n",
       "    .dataframe tbody tr th:only-of-type {\n",
       "        vertical-align: middle;\n",
       "    }\n",
       "\n",
       "    .dataframe tbody tr th {\n",
       "        vertical-align: top;\n",
       "    }\n",
       "\n",
       "    .dataframe thead th {\n",
       "        text-align: right;\n",
       "    }\n",
       "</style>\n",
       "<table border=\"1\" class=\"dataframe\">\n",
       "  <thead>\n",
       "    <tr style=\"text-align: right;\">\n",
       "      <th></th>\n",
       "      <th>вид</th>\n",
       "      <th>остров</th>\n",
       "      <th>длина клюва</th>\n",
       "      <th>ширина клюва</th>\n",
       "      <th>длина плавника</th>\n",
       "      <th>масса тела</th>\n",
       "      <th>пол</th>\n",
       "    </tr>\n",
       "  </thead>\n",
       "  <tbody>\n",
       "    <tr>\n",
       "      <th>0</th>\n",
       "      <td>0</td>\n",
       "      <td>2</td>\n",
       "      <td>39.1</td>\n",
       "      <td>18.7</td>\n",
       "      <td>181.0</td>\n",
       "      <td>3750.0</td>\n",
       "      <td>1</td>\n",
       "    </tr>\n",
       "    <tr>\n",
       "      <th>1</th>\n",
       "      <td>0</td>\n",
       "      <td>2</td>\n",
       "      <td>39.5</td>\n",
       "      <td>17.4</td>\n",
       "      <td>186.0</td>\n",
       "      <td>3800.0</td>\n",
       "      <td>0</td>\n",
       "    </tr>\n",
       "    <tr>\n",
       "      <th>2</th>\n",
       "      <td>0</td>\n",
       "      <td>2</td>\n",
       "      <td>40.3</td>\n",
       "      <td>18.0</td>\n",
       "      <td>195.0</td>\n",
       "      <td>3250.0</td>\n",
       "      <td>0</td>\n",
       "    </tr>\n",
       "    <tr>\n",
       "      <th>3</th>\n",
       "      <td>0</td>\n",
       "      <td>2</td>\n",
       "      <td>36.7</td>\n",
       "      <td>19.3</td>\n",
       "      <td>193.0</td>\n",
       "      <td>3450.0</td>\n",
       "      <td>0</td>\n",
       "    </tr>\n",
       "    <tr>\n",
       "      <th>4</th>\n",
       "      <td>0</td>\n",
       "      <td>2</td>\n",
       "      <td>39.3</td>\n",
       "      <td>20.6</td>\n",
       "      <td>190.0</td>\n",
       "      <td>3650.0</td>\n",
       "      <td>1</td>\n",
       "    </tr>\n",
       "  </tbody>\n",
       "</table>\n",
       "</div>"
      ],
      "text/plain": [
       "   вид  остров  длина клюва  ширина клюва  длина плавника  масса тела  пол\n",
       "0    0       2         39.1          18.7           181.0      3750.0    1\n",
       "1    0       2         39.5          17.4           186.0      3800.0    0\n",
       "2    0       2         40.3          18.0           195.0      3250.0    0\n",
       "3    0       2         36.7          19.3           193.0      3450.0    0\n",
       "4    0       2         39.3          20.6           190.0      3650.0    1"
      ]
     },
     "execution_count": 532,
     "metadata": {},
     "output_type": "execute_result"
    }
   ],
   "source": [
    "data = pd.read_csv('../Downloads/penguins.csv')\n",
    "data.head()"
   ]
  },
  {
   "cell_type": "markdown",
   "metadata": {
    "id": "cdF741MPntlk"
   },
   "source": [
    "Датасет содержит 7 признаков:\n",
    "\n",
    "- **вид**: вид пингвина. Всего их три разных:\n",
    "  - 0: Adelie\n",
    "  - 1: Chinstrap\n",
    "  - 2: Gento\n",
    "- **остров**: oстров, на котором обитает пингвин. Всего их три разных:\n",
    "  - 0: Biscoe  \n",
    "  - 1: Dream\n",
    "  - 2: Torgersen\n",
    "- **длина клюва**: длина клюва пингвина в миллиметрах;\n",
    "- **ширина клюва**: ширина клюва пингвина в миллиметрах;\n",
    "- **длина плавника**: длина плавника пингвина в миллиметрах;\n",
    "- **масса тела**:\tмасса тела пингвина в граммах;\n",
    "- **пол**: пол пингвина. Всго их два:\n",
    "  - 0: самка\n",
    "  - 1: самец\n",
    "\n",
    "\n",
    "\n"
   ]
  },
  {
   "cell_type": "markdown",
   "metadata": {
    "id": "wzNUZPprntll"
   },
   "source": [
    "И теперь реализуем свой класс линейной регрессии, который затем обучим на датасете:"
   ]
  },
  {
   "cell_type": "markdown",
   "metadata": {
    "id": "jwODGjxDntlm"
   },
   "source": [
    "## Реализация класса линейной регрессии"
   ]
  },
  {
   "cell_type": "markdown",
   "metadata": {
    "id": "AuyWYnmzntlm"
   },
   "source": [
    "Ниже — заготовка класса линейной регрессии. Ваша задача — написать код для его методов и отправить этот код (весь код класса, всю ячейку ниже) на проверку на Степик. Для этого нужно будет скопировать код класса в поле для отправки ответа на Степике.\n",
    "\n",
    "Перед тем как отправлять код на Степик, можно (и нужно!) проверить его на правильность, попробовав обучить свою линейную регрессию на данных пингвинов, которые мы только что загрузили. Код для этого реализован ниже."
   ]
  },
  {
   "cell_type": "markdown",
   "metadata": {
    "id": "FhQoOv-lntln"
   },
   "source": [
    "Несколько комментариев к заданию:\n",
    "- для каждого метода класса (fit, predict) описано, что этот метод принимает на вход и какой функционал реализует. По сути, fit — это аналог метода fit модели линейной регресси из sklearn, predict — аналог метода predict модели линейной регресси из sklearn;\n",
    "- в методе fit при полечении коэффициентов линейной регрессии вам нужно получить две переменные: self.coef_ и self.intercept_. В self.coef_ должен получиться массив коэффициентов, которые модель поставила в соответствие признакам датасета. В self.intercept_ должно получиться одно число — коэффициент-свободный член, который выучила модель. По сути, self.coef_ и self.intercept_ должны быть аналогами этих же переменных модели Linear Regression из sklearn.\n",
    "\n",
    "Алгоритм реализации метода fit:\n",
    "1. Перевести X и y в numpy array (для удобства). Это уже реализовано;\n",
    "2. Добавить к Х первый столбец из единиц. Подсказка: чтобы это сделать, удобно использовать np.hstack. Подумайте, как именно;\n",
    "3. Получить массив коэффициентов k по формуле, которую мы рассматривали в теоретическом видео (2 видео, 16 слайд)\n",
    "4. Разбить полученный массив коэффициентов k на self.coef_ и self.intercept_\n",
    "\n",
    "Алгоритм реализации метода predict:\n",
    "1. Получить значения y_pred, используя значения выученных коэффициентов и входящих признаков Х по формуле, которую мы рассматривали в теоретическом видео (2 видео, 16 слайд)"
   ]
  },
  {
   "cell_type": "code",
   "execution_count": 533,
   "metadata": {
    "id": "LFmMu95Fntln"
   },
   "outputs": [],
   "source": [
    "class MyLinearRegression:\n",
    "\n",
    "    def __init__(self):\n",
    "\n",
    "        self.coef_ = None\n",
    "        self.intercept_ = None\n",
    "\n",
    "\n",
    "    def fit(self, X, y):\n",
    "        '''\n",
    "        функция обучения линейной регрессии. Аналог метода fit модели LinearRegression из sklearn.\n",
    "        функция принимает на вход обучающую выборку\n",
    "        (Х — матрица признаков, y — массив ответов, значений целевой переменной),\n",
    "        и подбирает кожффициенты линейной регрессии.\n",
    "\n",
    "        входящие параметры:\n",
    "            X: матрица размера (n, f), где n — количество элементов датасета,\n",
    "               f — количество признаков\n",
    "            y: массив размера (n, ), где n — количество элементов датасета\n",
    "        '''\n",
    "        # переведем X и y в формат numpy array,\n",
    "        # чтобы было проще работать\n",
    "        X = np.array(X)\n",
    "        y = np.array(y)\n",
    "\n",
    "        # реализуйте код получения коэффициентов линейной\n",
    "        # регрессии по заданной обучающей выборке Х и y.\n",
    "        # инструкция по реализации дана выше. Не забудьте про\n",
    "        # вектор-столбец из единиц!\n",
    "        X = np.hstack((np.ones((len(X), 1)),X))\n",
    "        k = np.linalg.inv(X.T @ X) @ X.T @ y\n",
    "        # список коэффициентов, которые модель поставила\n",
    "        # в соответствие признакам датасета.\n",
    "        self.coef_ = k[1:]\n",
    "        # коэффициент — свободный член.\n",
    "        self.intercept_ = k[0]\n",
    "\n",
    "    def predict(self, X):\n",
    "        '''\n",
    "        функция получения предсказания линейной регрессии по входящему массиву признаков Х.\n",
    "\n",
    "        входящие параметры:\n",
    "            X: матрица размера (n, f), где n — количество элементов датасета,\n",
    "               f — количество признаков\n",
    "        '''\n",
    "\n",
    "        y_pred = np.array([]);\n",
    "        c = 0\n",
    "        for i in X:\n",
    "            q = 0\n",
    "            for j in X[i]:\n",
    "                if c == 0:\n",
    "                    y_pred = np.append(y_pred, self.intercept_)\n",
    "                y_pred[q] += j * self.coef_[c]\n",
    "                q += 1\n",
    "            c += 1\n",
    "        return y_pred"
   ]
  },
  {
   "cell_type": "markdown",
   "metadata": {
    "id": "7JPrhX9kntlo"
   },
   "source": [
    "## Тестирование класса линейной регрессии"
   ]
  },
  {
   "cell_type": "markdown",
   "metadata": {
    "id": "R8RwiNTKntlp"
   },
   "source": [
    "Давайте протестируем наш самописный класс MyLinearRegression, чтобы убедиться, что мы написали его верно. Обязательно протестируйте ваш класс перед отправкой кода на Степик!"
   ]
  },
  {
   "cell_type": "markdown",
   "metadata": {
    "id": "CsVvXHp3ntlp"
   },
   "source": [
    "### Датасет с одним признаком"
   ]
  },
  {
   "cell_type": "markdown",
   "metadata": {
    "id": "ajQLYw4_ntlr"
   },
   "source": [
    "Сначала протестируем случай, когда у нас всего один признак в данных. Так же, как и на практическом занятии, заведем переменные Х и y, и присвоим Х один из столбцов нашего датасета пингвинов. В этот раз давайте будем пытаться предсказывать длину клюва пингвина по его длине плавника."
   ]
  },
  {
   "cell_type": "code",
   "execution_count": 534,
   "metadata": {
    "id": "oNcr76mGntlr"
   },
   "outputs": [],
   "source": [
    "X = data[['длина плавника']]\n",
    "y = data['длина клюва']"
   ]
  },
  {
   "cell_type": "markdown",
   "metadata": {
    "id": "sHaO-h4untls"
   },
   "source": [
    "Разобьем Х и y на train и test:"
   ]
  },
  {
   "cell_type": "code",
   "execution_count": 535,
   "metadata": {
    "id": "k2zJ1dpQntlt"
   },
   "outputs": [],
   "source": [
    "from sklearn.model_selection import train_test_split\n",
    "\n",
    "X_train, X_test, y_train, y_test = train_test_split(X, y, test_size=0.15)"
   ]
  },
  {
   "cell_type": "markdown",
   "metadata": {
    "id": "Y2kpnnPSntlu"
   },
   "source": [
    "И визуализируем точки обучающей выборки:"
   ]
  },
  {
   "cell_type": "code",
   "execution_count": 536,
   "metadata": {
    "id": "RLJ2AufVntlv"
   },
   "outputs": [
    {
     "data": {
      "image/png": "[encoded data removed]",
      "text/plain": [
       "<Figure size 640x480 with 1 Axes>"
      ]
     },
     "metadata": {},
     "output_type": "display_data"
    }
   ],
   "source": [
    "# визуализируем точки обучающей выборки\n",
    "plt.scatter(X_train, y_train)\n",
    "\n",
    "# подпишем оси\n",
    "plt.xlabel('длина плавника (мм)');\n",
    "plt.ylabel('длина клюва (мм)');\n",
    "\n",
    "plt.show()"
   ]
  },
  {
   "cell_type": "markdown",
   "metadata": {
    "id": "QPnm-4llntlw"
   },
   "source": [
    "Отлично. Теперь объявим и обучим нашу линейную регрессию:"
   ]
  },
  {
   "cell_type": "code",
   "execution_count": 537,
   "metadata": {
    "id": "-3ONyDDAntlx"
   },
   "outputs": [],
   "source": [
    "my_lr = MyLinearRegression()\n",
    "my_lr.fit(X_train, y_train)"
   ]
  },
  {
   "cell_type": "markdown",
   "metadata": {
    "id": "tSLN7Lxbntly"
   },
   "source": [
    "И посмотрим, какие у нашей линейной регрессии получились коэффициенты:"
   ]
  },
  {
   "cell_type": "code",
   "execution_count": 538,
   "metadata": {
    "id": "2RqtOgfGntly"
   },
   "outputs": [
    {
     "data": {
      "text/plain": [
       "(array([0.25154456]), -6.405707162862542)"
      ]
     },
     "execution_count": 538,
     "metadata": {},
     "output_type": "execute_result"
    }
   ],
   "source": [
    "my_lr.coef_, my_lr.intercept_"
   ]
  },
  {
   "cell_type": "markdown",
   "metadata": {
    "id": "033dLM_Wntlz"
   },
   "source": [
    "Теперь мы можем визуализировать прямую, которую описывает наша линейная регрессия. Делаем это точно тем же кодом, что на практическом занятии. Убедитесь, что ваша линейная регрессия строит прямую, которая адекватно описывает точки (т.е. похожа на правильную)."
   ]
  },
  {
   "cell_type": "code",
   "execution_count": 539,
   "metadata": {
    "id": "YJIVes9entl0"
   },
   "outputs": [
    {
     "name": "stderr",
     "output_type": "stream",
     "text": [
      "/Users/kseniashk/anaconda3/lib/python3.10/site-packages/numpy/core/fromnumeric.py:84: FutureWarning: In a future version, DataFrame.min(axis=None) will return a scalar min over the entire DataFrame. To retain the old behavior, use 'frame.min(axis=0)' or just 'frame.min()'\n",
      "  return reduction(axis=axis, out=out, **passkwargs)\n",
      "/Users/kseniashk/anaconda3/lib/python3.10/site-packages/numpy/core/fromnumeric.py:84: FutureWarning: In a future version, DataFrame.max(axis=None) will return a scalar max over the entire DataFrame. To retain the old behavior, use 'frame.max(axis=0)' or just 'frame.max()'\n",
      "  return reduction(axis=axis, out=out, **passkwargs)\n"
     ]
    },
    {
     "data": {
      "image/png": "[encoded data removed]",
      "text/plain": [
       "<Figure size 640x480 with 1 Axes>"
      ]
     },
     "metadata": {},
     "output_type": "display_data"
    }
   ],
   "source": [
    "# визуализируем точки обучающей выборки\n",
    "plt.scatter(X_train, y_train)\n",
    "\n",
    "# визуализируем прямую, которую выражает линейная регрессия\n",
    "# y = coef_*x_1 + intercept_\n",
    "def f_line(x):\n",
    "    return  my_lr.coef_*x + my_lr.intercept_\n",
    "\n",
    "x = [np.min(X_train), np.max(X_train)]\n",
    "y = f_line(x)\n",
    "plt.plot(x, y)\n",
    "\n",
    "plt.xlabel('длина плавника (мм)')\n",
    "plt.ylabel('длина клюва (мм)')\n",
    "\n",
    "plt.show()"
   ]
  },
  {
   "cell_type": "markdown",
   "metadata": {
    "id": "j33ROlMmntl1"
   },
   "source": [
    "Хорошо, мы убедились, что наша линейная регрессия как-то работает: выучивает какие-то коэффициенты. Давайте теперь убедимся, что она работает **правильно**. Для этого импортируем линейную регрессию из sklearn, обучим ее на тех же данных и получим ее коэффициенты. Они должны совпадать с теми, что выучивает наша самописная линейная регрессия."
   ]
  },
  {
   "cell_type": "code",
   "execution_count": 540,
   "metadata": {
    "id": "LmsDTWKjntl1"
   },
   "outputs": [],
   "source": [
    "from sklearn.linear_model import LinearRegression"
   ]
  },
  {
   "cell_type": "markdown",
   "metadata": {
    "id": "Dog-K6E8ntl2"
   },
   "source": [
    "Объявляем модель, обучаем и получаем коэффициенты:"
   ]
  },
  {
   "cell_type": "code",
   "execution_count": 541,
   "metadata": {
    "id": "f9Xshkvjntl3"
   },
   "outputs": [
    {
     "data": {
      "text/plain": [
       "(array([0.25154456]), -6.4057071628621856)"
      ]
     },
     "execution_count": 541,
     "metadata": {},
     "output_type": "execute_result"
    }
   ],
   "source": [
    "lr = LinearRegression()\n",
    "lr.fit(X_train, y_train)\n",
    "lr.coef_, lr.intercept_"
   ]
  },
  {
   "cell_type": "markdown",
   "metadata": {
    "id": "ipniXqp1ntl3"
   },
   "source": [
    "Еще раз выведем коэффициенты нашей самописной модели, чтобы сравнить их с теми, что выдает модель из sklearn:"
   ]
  },
  {
   "cell_type": "code",
   "execution_count": 542,
   "metadata": {
    "id": "YphJwUcUntl4"
   },
   "outputs": [
    {
     "data": {
      "text/plain": [
       "(array([0.25154456]), -6.405707162862542)"
      ]
     },
     "execution_count": 542,
     "metadata": {},
     "output_type": "execute_result"
    }
   ],
   "source": [
    "my_lr.coef_, my_lr.intercept_"
   ]
  },
  {
   "cell_type": "markdown",
   "metadata": {
    "id": "eUDwWv34ntl5"
   },
   "source": [
    "Можно убедиться на глаз, что коэффициенты вашей модели такие же, что у модели из sklearn. Но можно проверить с помощью кода. Код ниже проверяет, что coef_ и inpercept_ вашей модели близки к coef_ и inpercept_ модели из sklearn. Если код ниже не выдает ошибку, то все хорошо. Если выдает ошибку, то ваша модель работает неправильно."
   ]
  },
  {
   "cell_type": "code",
   "execution_count": 543,
   "metadata": {
    "id": "bsVsEB_sntl5"
   },
   "outputs": [],
   "source": [
    "assert np.allclose(my_lr.coef_, lr.coef_), \"Ошибка: coef_ вашей модели не совпадает с coef_ модели из sklearn!\"\n",
    "assert np.allclose(my_lr.intercept_, lr.intercept_), \"Ошибка: coef_ вашей модели не совпадает с coef_ модели из sklearn!\""
   ]
  },
  {
   "cell_type": "markdown",
   "metadata": {
    "id": "XFHvCb_cntl5"
   },
   "source": [
    "Если ошибок нет, то поздравляю: у вашей линейной регрессии правильно работает метод fit на датасете, в котором один признак =). Проверим теперь работу метода predict. Вызовем predict у my_lr и у lr и сравним ответы:"
   ]
  },
  {
   "cell_type": "code",
   "execution_count": 544,
   "metadata": {
    "id": "MjuhYPU_ntl6"
   },
   "outputs": [],
   "source": [
    "y_pred = lr.predict(X_test)\n",
    "my_y_pred = my_lr.predict(X_test)\n",
    "\n",
    "assert np.allclose(my_y_pred, y_pred), \"Ошибка: метод predict выдает неверные результаты!\""
   ]
  },
  {
   "cell_type": "markdown",
   "metadata": {
    "id": "1V9Z4EFQntl6"
   },
   "source": [
    "Если ячейка отработала без ошибок, поздравляю: ваша линейная регрессия полностью правильно работает на датасете, в котором один признак!\n",
    "    \n",
    "Теперь давайте проверим, что самописная модель также работает на данных, в которых несколько признаков:"
   ]
  },
  {
   "cell_type": "markdown",
   "metadata": {
    "id": "mtdMqWsUntl7"
   },
   "source": [
    "### Датасет с несколькими признаками"
   ]
  },
  {
   "cell_type": "code",
   "execution_count": 545,
   "metadata": {
    "id": "hsXba6Bsntl7"
   },
   "outputs": [
    {
     "data": {
      "text/html": [
       "<div>\n",
       "<style scoped>\n",
       "    .dataframe tbody tr th:only-of-type {\n",
       "        vertical-align: middle;\n",
       "    }\n",
       "\n",
       "    .dataframe tbody tr th {\n",
       "        vertical-align: top;\n",
       "    }\n",
       "\n",
       "    .dataframe thead th {\n",
       "        text-align: right;\n",
       "    }\n",
       "</style>\n",
       "<table border=\"1\" class=\"dataframe\">\n",
       "  <thead>\n",
       "    <tr style=\"text-align: right;\">\n",
       "      <th></th>\n",
       "      <th>вид</th>\n",
       "      <th>остров</th>\n",
       "      <th>длина клюва</th>\n",
       "      <th>ширина клюва</th>\n",
       "      <th>длина плавника</th>\n",
       "      <th>масса тела</th>\n",
       "      <th>пол</th>\n",
       "    </tr>\n",
       "  </thead>\n",
       "  <tbody>\n",
       "    <tr>\n",
       "      <th>0</th>\n",
       "      <td>0</td>\n",
       "      <td>2</td>\n",
       "      <td>39.1</td>\n",
       "      <td>18.7</td>\n",
       "      <td>181.0</td>\n",
       "      <td>3750.0</td>\n",
       "      <td>1</td>\n",
       "    </tr>\n",
       "    <tr>\n",
       "      <th>1</th>\n",
       "      <td>0</td>\n",
       "      <td>2</td>\n",
       "      <td>39.5</td>\n",
       "      <td>17.4</td>\n",
       "      <td>186.0</td>\n",
       "      <td>3800.0</td>\n",
       "      <td>0</td>\n",
       "    </tr>\n",
       "    <tr>\n",
       "      <th>2</th>\n",
       "      <td>0</td>\n",
       "      <td>2</td>\n",
       "      <td>40.3</td>\n",
       "      <td>18.0</td>\n",
       "      <td>195.0</td>\n",
       "      <td>3250.0</td>\n",
       "      <td>0</td>\n",
       "    </tr>\n",
       "    <tr>\n",
       "      <th>3</th>\n",
       "      <td>0</td>\n",
       "      <td>2</td>\n",
       "      <td>36.7</td>\n",
       "      <td>19.3</td>\n",
       "      <td>193.0</td>\n",
       "      <td>3450.0</td>\n",
       "      <td>0</td>\n",
       "    </tr>\n",
       "    <tr>\n",
       "      <th>4</th>\n",
       "      <td>0</td>\n",
       "      <td>2</td>\n",
       "      <td>39.3</td>\n",
       "      <td>20.6</td>\n",
       "      <td>190.0</td>\n",
       "      <td>3650.0</td>\n",
       "      <td>1</td>\n",
       "    </tr>\n",
       "  </tbody>\n",
       "</table>\n",
       "</div>"
      ],
      "text/plain": [
       "   вид  остров  длина клюва  ширина клюва  длина плавника  масса тела  пол\n",
       "0    0       2         39.1          18.7           181.0      3750.0    1\n",
       "1    0       2         39.5          17.4           186.0      3800.0    0\n",
       "2    0       2         40.3          18.0           195.0      3250.0    0\n",
       "3    0       2         36.7          19.3           193.0      3450.0    0\n",
       "4    0       2         39.3          20.6           190.0      3650.0    1"
      ]
     },
     "execution_count": 545,
     "metadata": {},
     "output_type": "execute_result"
    }
   ],
   "source": [
    "data.head()"
   ]
  },
  {
   "cell_type": "markdown",
   "metadata": {
    "id": "uCb2Oh1Rntl8"
   },
   "source": [
    "Давайте обучим нашу модель на данных, в которых будут все 6 признаков (все, кроме \"длина клюва\", которая у нас целевая переменная)."
   ]
  },
  {
   "cell_type": "code",
   "execution_count": 546,
   "metadata": {
    "id": "-CUVoLvhntl8"
   },
   "outputs": [],
   "source": [
    "y = data['длина клюва']\n",
    "X = data.drop(columns=['длина клюва'])"
   ]
  },
  {
   "cell_type": "markdown",
   "metadata": {
    "id": "dhMqI_eHntl8"
   },
   "source": [
    "Поделим данные на train и test:"
   ]
  },
  {
   "cell_type": "code",
   "execution_count": 547,
   "metadata": {
    "id": "GWVWPW_Gntl9"
   },
   "outputs": [],
   "source": [
    "from sklearn.model_selection import train_test_split\n",
    "\n",
    "X_train, X_test, y_train, y_test = train_test_split(X, y, test_size=0.15)"
   ]
  },
  {
   "cell_type": "markdown",
   "metadata": {
    "id": "C6nMavsGntl9"
   },
   "source": [
    "Объявим и обучим самописную линейную регрессию на train части:"
   ]
  },
  {
   "cell_type": "code",
   "execution_count": 548,
   "metadata": {
    "id": "8q6Ejpsrntl9"
   },
   "outputs": [
    {
     "data": {
      "text/plain": [
       "(array([ 8.36464214e+00,  4.60171719e-01,  1.57815865e+00, -6.71001101e-03,\n",
       "        -1.35625100e-03,  1.91241189e+00]),\n",
       " 15.040309632988954)"
      ]
     },
     "execution_count": 548,
     "metadata": {},
     "output_type": "execute_result"
    }
   ],
   "source": [
    "my_lr = MyLinearRegression()\n",
    "my_lr.fit(X_train, y_train)\n",
    "my_lr.coef_, my_lr.intercept_"
   ]
  },
  {
   "cell_type": "markdown",
   "metadata": {
    "id": "FsY8mLULntl-"
   },
   "source": [
    "Также объявим и обучим модель из sklearn, чтобы сравнить их:"
   ]
  },
  {
   "cell_type": "code",
   "execution_count": 549,
   "metadata": {
    "id": "h_KRgUyXntl-"
   },
   "outputs": [
    {
     "data": {
      "text/plain": [
       "(array([ 8.36464214e+00,  4.60171719e-01,  1.57815865e+00, -6.71001101e-03,\n",
       "        -1.35625100e-03,  1.91241189e+00]),\n",
       " 15.040309632971542)"
      ]
     },
     "execution_count": 549,
     "metadata": {},
     "output_type": "execute_result"
    }
   ],
   "source": [
    "lr = LinearRegression()\n",
    "lr.fit(X_train, y_train)\n",
    "lr.coef_, lr.intercept_"
   ]
  },
  {
   "cell_type": "markdown",
   "metadata": {
    "id": "env93J1-ntl_"
   },
   "source": [
    "Проверка, что coef_ и intercept_ совпадают:"
   ]
  },
  {
   "cell_type": "code",
   "execution_count": 550,
   "metadata": {
    "id": "pRGmEMFQntl_"
   },
   "outputs": [],
   "source": [
    "assert np.allclose(my_lr.coef_, lr.coef_), \"Ошибка: coef_ вашей модели не совпадает с coef_ модели из sklearn!\"\n",
    "assert np.allclose(my_lr.intercept_, lr.intercept_), \"Ошибка: coef_ вашей модели не совпадает с coef_ модели из sklearn!\""
   ]
  },
  {
   "cell_type": "markdown",
   "metadata": {
    "id": "efmIvjNBntl_"
   },
   "source": [
    "И также проверим, что правильно работает метод predict:"
   ]
  },
  {
   "cell_type": "code",
   "execution_count": 554,
   "metadata": {
    "id": "S0hqO7unntmA"
   },
   "outputs": [
    {
     "name": "stdout",
     "output_type": "stream",
     "text": [
      "[50.92113796 40.71607088 37.95911541 43.11594743 46.97990196 36.97512871\n",
      " 47.50244633 38.91900991 40.37398277 50.65116959 47.26574888 49.55830406\n",
      " 44.8746572  39.44581442 41.46897549 35.74515112 47.05626145 41.13720277\n",
      " 46.95771119 47.18504412 37.91465329 46.41485457 49.70421084 39.99648116\n",
      " 46.4026748  49.17103098 40.21492665 41.2824391  40.27344064 38.77013332\n",
      " 37.49678664 40.3469032  48.52552701 47.22189516 50.33737239 49.46283099\n",
      " 43.76843703 40.44501702 45.50756161 37.3353815  39.9581494  49.52298593\n",
      " 45.93717747 51.44020734 39.78826181 36.21409358 39.13976525 34.75458683\n",
      " 37.53054877 40.26880309] [50.92113796 40.71607088 37.95911541 43.11594743 46.97990196 36.97512871\n",
      " 47.50244633 38.91900991 40.37398277 50.65116959 47.26574888 49.55830406\n",
      " 44.8746572  39.44581442 41.46897549 35.74515112 47.05626145 41.13720277\n",
      " 46.95771119 47.18504412 37.91465329 46.41485457 49.70421084 39.99648116\n",
      " 46.4026748  49.17103098 40.21492665 41.2824391  40.27344064 38.77013332\n",
      " 37.49678664 40.3469032  48.52552701 47.22189516 50.33737239 49.46283099\n",
      " 43.76843703 40.44501702 45.50756161 37.3353815  39.9581494  49.52298593\n",
      " 45.93717747 51.44020734 39.78826181 36.21409358 39.13976525 34.75458683\n",
      " 37.53054877 40.26880309]\n"
     ]
    }
   ],
   "source": [
    "my_y_pred = my_lr.predict(X_test)\n",
    "y_pred = lr.predict(X_test)\n",
    "\n",
    "assert np.allclose(my_y_pred, y_pred), \"Ошибка: метод predict выдает неверные результаты!\"\n",
    "print(my_y_pred, y_pred)"
   ]
  },
  {
   "cell_type": "markdown",
   "metadata": {
    "id": "ZK0OQGP8ntmA"
   },
   "source": [
    "Итак, если все ячейки до этого момента отработали без ошибок, поздравляю: кажется, ваша линейная регрессия полностью правильно работает и на датасете, в котором несколько признаков!\n",
    "\n",
    "Вы можете тестировать вашу модель и далее, обучая ее на других даатсетах. После того, как убедитесь, что ошибок в вашей модели нет, не забудьте отправить код на Степик."
   ]
  },
  {
   "cell_type": "code",
   "execution_count": null,
   "metadata": {},
   "outputs": [],
   "source": []
  },
  {
   "cell_type": "code",
   "execution_count": null,
   "metadata": {},
   "outputs": [],
   "source": []
  },
  {
   "cell_type": "code",
   "execution_count": null,
   "metadata": {},
   "outputs": [],
   "source": []
  }
 ],
 "metadata": {
  "colab": {
   "provenance": []
  },
  "kernelspec": {
   "display_name": "Python 3 (ipykernel)",
   "language": "python",
   "name": "python3"
  },
  "language_info": {
   "codemirror_mode": {
    "name": "ipython",
    "version": 3
   },
   "file_extension": ".py",
   "mimetype": "text/x-python",
   "name": "python",
   "nbconvert_exporter": "python",
   "pygments_lexer": "ipython3",
   "version": "3.10.9"
  }
 },
 "nbformat": 4,
 "nbformat_minor": 1
}
